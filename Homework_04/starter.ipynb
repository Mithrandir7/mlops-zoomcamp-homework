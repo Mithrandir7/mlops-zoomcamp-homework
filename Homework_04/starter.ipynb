{
 "cells": [
  {
   "cell_type": "code",
   "execution_count": 1,
   "id": "3a0dbbac",
   "metadata": {},
   "outputs": [
    {
     "name": "stdout",
     "output_type": "stream",
     "text": [
      "Requirement already satisfied: pyarrow in /home/usuario/anaconda3/envs/model-deployment-env/lib/python3.9/site-packages (9.0.0)\n",
      "Requirement already satisfied: numpy>=1.16.6 in /home/usuario/anaconda3/envs/model-deployment-env/lib/python3.9/site-packages (from pyarrow) (1.23.3)\n"
     ]
    }
   ],
   "source": [
    "!pip install pyarrow"
   ]
  },
  {
   "cell_type": "code",
   "execution_count": 2,
   "id": "2c51efaa",
   "metadata": {},
   "outputs": [
    {
     "name": "stdout",
     "output_type": "stream",
     "text": [
      "scikit-learn==1.0.2\n"
     ]
    }
   ],
   "source": [
    "!pip list --format=freeze | grep scikit-learn"
   ]
  },
  {
   "cell_type": "code",
   "execution_count": 3,
   "id": "0ef880a0",
   "metadata": {},
   "outputs": [],
   "source": [
    "import pickle\n",
    "import pandas as pd\n",
    "import numpy as np"
   ]
  },
  {
   "cell_type": "code",
   "execution_count": 4,
   "id": "7836ccfd",
   "metadata": {},
   "outputs": [],
   "source": [
    "with open('model.bin', 'rb') as f_in:\n",
    "    dv, lr = pickle.load(f_in)"
   ]
  },
  {
   "cell_type": "code",
   "execution_count": 5,
   "id": "41c08294",
   "metadata": {},
   "outputs": [],
   "source": [
    "categorical = ['PUlocationID', 'DOlocationID']\n",
    "\n",
    "def read_data(filename):\n",
    "    df = pd.read_parquet(filename)\n",
    "    \n",
    "    df['duration'] = df.dropOff_datetime - df.pickup_datetime\n",
    "    df['duration'] = df.duration.dt.total_seconds() / 60\n",
    "\n",
    "    df = df[(df.duration >= 1) & (df.duration <= 60)].copy()\n",
    "\n",
    "    df[categorical] = df[categorical].fillna(-1).astype('int').astype('str')\n",
    "    \n",
    "    return df"
   ]
  },
  {
   "cell_type": "code",
   "execution_count": 6,
   "id": "e755a3b5",
   "metadata": {},
   "outputs": [],
   "source": [
    "year = 2021\n",
    "month = 2\n",
    "input_file = f'https://d37ci6vzurychx.cloudfront.net/trip-data/fhv_tripdata_{year:04d}-{month:02d}.parquet'\n",
    "output_file = f'output/fhv_tripdata_{year:04d}-{month:02d}.parquet'"
   ]
  },
  {
   "cell_type": "code",
   "execution_count": 7,
   "id": "4854399a",
   "metadata": {},
   "outputs": [],
   "source": [
    "df = read_data(input_file)"
   ]
  },
  {
   "cell_type": "code",
   "execution_count": 8,
   "id": "669fda0a",
   "metadata": {},
   "outputs": [],
   "source": [
    "dicts = df[categorical].to_dict(orient='records')\n",
    "X_val = dv.transform(dicts)\n",
    "y_pred = lr.predict(X_val)"
   ]
  },
  {
   "cell_type": "code",
   "execution_count": 9,
   "id": "3ceb5ed0",
   "metadata": {},
   "outputs": [],
   "source": [
    "# Question 1: What's the mean predicted duration for this dataset?"
   ]
  },
  {
   "cell_type": "code",
   "execution_count": 10,
   "id": "0ff612d7",
   "metadata": {},
   "outputs": [
    {
     "data": {
      "text/plain": [
       "16.191691679979066"
      ]
     },
     "execution_count": 10,
     "metadata": {},
     "output_type": "execute_result"
    }
   ],
   "source": [
    "np.mean(y_pred)"
   ]
  },
  {
   "cell_type": "code",
   "execution_count": 11,
   "id": "cdae0851",
   "metadata": {},
   "outputs": [],
   "source": [
    "df['ride_id'] = f'{year:04d}/{month:02d}_' + df.index.astype('str')"
   ]
  },
  {
   "cell_type": "code",
   "execution_count": 12,
   "id": "c0e8f903",
   "metadata": {},
   "outputs": [],
   "source": [
    "df_result = df[['ride_id', 'duration']].copy()"
   ]
  },
  {
   "cell_type": "code",
   "execution_count": 13,
   "id": "241fc94f",
   "metadata": {},
   "outputs": [
    {
     "name": "stdout",
     "output_type": "stream",
     "text": [
      "mkdir: no se puede crear el directorio «output»: El archivo ya existe\n"
     ]
    }
   ],
   "source": [
    "!mkdir output"
   ]
  },
  {
   "cell_type": "code",
   "execution_count": 14,
   "id": "664a4aa7",
   "metadata": {},
   "outputs": [],
   "source": [
    "df_result.to_parquet(\n",
    "    output_file,\n",
    "    engine='pyarrow',\n",
    "    compression=None,\n",
    "    index=False\n",
    ")"
   ]
  },
  {
   "cell_type": "code",
   "execution_count": 17,
   "id": "b30b59a6",
   "metadata": {},
   "outputs": [
    {
     "data": {
      "text/plain": [
       "19"
      ]
     },
     "execution_count": 17,
     "metadata": {},
     "output_type": "execute_result"
    }
   ],
   "source": [
    "# Question 2: What's the size of the output file?\n",
    "import math\n",
    "import os\n",
    "math.ceil(os.path.getsize(output_file) / (1024 * 1024))"
   ]
  },
  {
   "cell_type": "code",
   "execution_count": 81,
   "id": "7ec65c77",
   "metadata": {},
   "outputs": [],
   "source": [
    "# Question 3: Now let's turn the notebook into a script. Which command you need to execute for that?\n",
    "\n",
    "# jupyter nbconvert --to=script starter.ipynb\n",
    "\n",
    "# Then for legibility I rename it to batch.py since it will be used to deploy it as batch/offline deployment"
   ]
  },
  {
   "cell_type": "code",
   "execution_count": 82,
   "id": "8db50afc",
   "metadata": {},
   "outputs": [],
   "source": [
    "# Question 4: What's the first hash for the Scikit-Learn dependency?\n",
    "# pipenv install scikit-learn==1.0.2 pandas pyarrow s3fs --python=3.9\n",
    "# and then check Pipfile.lock to see the hash:\n",
    "# sha256:08ef968f6b72033c16c479c966bf37ccd49b06ea91b765e1cc27afefe723920b"
   ]
  },
  {
   "cell_type": "code",
   "execution_count": 83,
   "id": "74be8156",
   "metadata": {},
   "outputs": [],
   "source": [
    "# Question 5: What's the mean predicted duration?\n",
    "# I parametrize the script starter.py with two parameters, year and month and then run\n",
    "# pipenv run python batch.py 2021 3\n",
    "# 16.298821614015107"
   ]
  },
  {
   "cell_type": "code",
   "execution_count": null,
   "id": "7fc9a6eb",
   "metadata": {},
   "outputs": [],
   "source": [
    "# Question 6: Now run the script with docker. What's the mean predicted duration for April 2021?\n",
    "\n",
    "# docker build -t mlops-zoomcamp-hw4:v1 .\n",
    "# note: if docker file is diferent from 'Dockerfile', ie: 'mydockerfile.dockerfile' the name needs to be specified, like this\n",
    "# docker build -t mlops-zoomcamp-hw4:v1 -f mydockerfile.dockerfile .\n",
    "# then I run docker run -it --rm mlops-zoomcamp-hw4:v1 2021 4\n",
    "# predicted mean duration:  9.967573179784523"
   ]
  },
  {
   "cell_type": "code",
   "execution_count": null,
   "id": "855e9ff7",
   "metadata": {},
   "outputs": [],
   "source": [
    "# Bonus question\n",
    "# docker build -t mlops-zoomcamp-hw4:v1 -f mydockerfile.dockerfile .\n",
    "# docker run -it --rm -v $HOME/.aws:/root/.aws mlops-zoomcamp-hw4:v1 2021 4"
   ]
  }
 ],
 "metadata": {
  "kernelspec": {
   "display_name": "Python 3 (ipykernel)",
   "language": "python",
   "name": "python3"
  },
  "language_info": {
   "codemirror_mode": {
    "name": "ipython",
    "version": 3
   },
   "file_extension": ".py",
   "mimetype": "text/x-python",
   "name": "python",
   "nbconvert_exporter": "python",
   "pygments_lexer": "ipython3",
   "version": "3.9.13"
  },
  "vscode": {
   "interpreter": {
    "hash": "807ca28f2a6996697efc63807dd5171753370eb1d1c2a12a088016893f52a3d1"
   }
  }
 },
 "nbformat": 4,
 "nbformat_minor": 5
}
