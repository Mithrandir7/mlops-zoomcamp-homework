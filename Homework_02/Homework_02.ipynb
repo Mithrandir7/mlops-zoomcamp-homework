{
 "cells": [
  {
   "cell_type": "code",
   "execution_count": 2,
   "id": "998dca86",
   "metadata": {},
   "outputs": [
    {
     "name": "stdout",
     "output_type": "stream",
     "text": [
      "mlflow, version 1.26.1\n"
     ]
    }
   ],
   "source": [
    "# \n",
    "!mlflow --version"
   ]
  },
  {
   "cell_type": "code",
   "execution_count": null,
   "id": "f88c2038",
   "metadata": {},
   "outputs": [],
   "source": []
  }
 ],
 "metadata": {
  "kernelspec": {
   "display_name": "Python 3 (ipykernel)",
   "language": "python",
   "name": "python3"
  },
  "language_info": {
   "codemirror_mode": {
    "name": "ipython",
    "version": 3
   },
   "file_extension": ".py",
   "mimetype": "text/x-python",
   "name": "python",
   "nbconvert_exporter": "python",
   "pygments_lexer": "ipython3",
   "version": "3.9.12"
  }
 },
 "nbformat": 4,
 "nbformat_minor": 5
}
