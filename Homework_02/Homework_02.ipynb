{
 "cells": [
  {
   "cell_type": "code",
   "execution_count": 1,
   "id": "c53ac2fe",
   "metadata": {},
   "outputs": [
    {
     "name": "stdout",
     "output_type": "stream",
     "text": [
      "exp-tracking-env\n"
     ]
    }
   ],
   "source": [
    "import os\n",
    "print (os.environ['CONDA_DEFAULT_ENV'])"
   ]
  },
  {
   "cell_type": "code",
   "execution_count": 3,
   "id": "2d251bf7",
   "metadata": {},
   "outputs": [],
   "source": [
    "# Previously created environment in Anaconda console with conda create -n exp-tracking-env python=3.9\n",
    "!conda activate exp-tracking-env"
   ]
  },
  {
   "cell_type": "code",
   "execution_count": 4,
   "id": "769e129e",
   "metadata": {},
   "outputs": [
    {
     "name": "stdout",
     "output_type": "stream",
     "text": [
      "exp-tracking-env\n"
     ]
    }
   ],
   "source": [
    "import os\n",
    "print (os.environ['CONDA_DEFAULT_ENV'])"
   ]
  },
  {
   "cell_type": "code",
   "execution_count": null,
   "id": "610ef245",
   "metadata": {},
   "outputs": [],
   "source": []
  },
  {
   "cell_type": "code",
   "execution_count": 8,
   "id": "cff769de",
   "metadata": {
    "scrolled": false
   },
   "outputs": [
    {
     "name": "stdout",
     "output_type": "stream",
     "text": [
      "Requirement already satisfied: mlflow in c:\\users\\pc\\anaconda3\\envs\\exp-tracking-env\\lib\\site-packages (from -r requirements.txt (line 1)) (1.26.1)\n",
      "Requirement already satisfied: jupyter in c:\\users\\pc\\anaconda3\\envs\\exp-tracking-env\\lib\\site-packages (from -r requirements.txt (line 2)) (1.0.0)\n",
      "Requirement already satisfied: scikit-learn in c:\\users\\pc\\anaconda3\\envs\\exp-tracking-env\\lib\\site-packages (from -r requirements.txt (line 3)) (1.1.1)\n",
      "Requirement already satisfied: pandas in c:\\users\\pc\\anaconda3\\envs\\exp-tracking-env\\lib\\site-packages (from -r requirements.txt (line 4)) (1.4.2)\n",
      "Requirement already satisfied: seaborn in c:\\users\\pc\\anaconda3\\envs\\exp-tracking-env\\lib\\site-packages (from -r requirements.txt (line 5)) (0.11.2)\n",
      "Requirement already satisfied: hyperopt in c:\\users\\pc\\anaconda3\\envs\\exp-tracking-env\\lib\\site-packages (from -r requirements.txt (line 6)) (0.2.7)\n",
      "Requirement already satisfied: xgboost in c:\\users\\pc\\anaconda3\\envs\\exp-tracking-env\\lib\\site-packages (from -r requirements.txt (line 7)) (1.6.1)\n",
      "Requirement already satisfied: fastparquet in c:\\users\\pc\\anaconda3\\envs\\exp-tracking-env\\lib\\site-packages (from -r requirements.txt (line 8)) (0.8.1)\n",
      "Requirement already satisfied: boto3 in c:\\users\\pc\\anaconda3\\envs\\exp-tracking-env\\lib\\site-packages (from -r requirements.txt (line 9)) (1.23.10)\n",
      "Requirement already satisfied: click>=7.0 in c:\\users\\pc\\anaconda3\\envs\\exp-tracking-env\\lib\\site-packages (from mlflow->-r requirements.txt (line 1)) (8.1.3)\n",
      "Requirement already satisfied: protobuf>=3.12.0 in c:\\users\\pc\\anaconda3\\envs\\exp-tracking-env\\lib\\site-packages (from mlflow->-r requirements.txt (line 1)) (4.21.1)\n",
      "Requirement already satisfied: cloudpickle in c:\\users\\pc\\anaconda3\\envs\\exp-tracking-env\\lib\\site-packages (from mlflow->-r requirements.txt (line 1)) (2.1.0)\n",
      "Requirement already satisfied: importlib-metadata!=4.7.0,>=3.7.0 in c:\\users\\pc\\anaconda3\\envs\\exp-tracking-env\\lib\\site-packages (from mlflow->-r requirements.txt (line 1)) (4.11.4)\n",
      "Requirement already satisfied: packaging in c:\\users\\pc\\anaconda3\\envs\\exp-tracking-env\\lib\\site-packages (from mlflow->-r requirements.txt (line 1)) (21.3)\n",
      "Requirement already satisfied: sqlparse>=0.3.1 in c:\\users\\pc\\anaconda3\\envs\\exp-tracking-env\\lib\\site-packages (from mlflow->-r requirements.txt (line 1)) (0.4.2)\n",
      "Requirement already satisfied: gitpython>=2.1.0 in c:\\users\\pc\\anaconda3\\envs\\exp-tracking-env\\lib\\site-packages (from mlflow->-r requirements.txt (line 1)) (3.1.27)\n",
      "Requirement already satisfied: pytz in c:\\users\\pc\\anaconda3\\envs\\exp-tracking-env\\lib\\site-packages (from mlflow->-r requirements.txt (line 1)) (2022.1)\n",
      "Requirement already satisfied: querystring-parser in c:\\users\\pc\\anaconda3\\envs\\exp-tracking-env\\lib\\site-packages (from mlflow->-r requirements.txt (line 1)) (1.2.4)\n",
      "Requirement already satisfied: entrypoints in c:\\users\\pc\\anaconda3\\envs\\exp-tracking-env\\lib\\site-packages (from mlflow->-r requirements.txt (line 1)) (0.4)\n",
      "Requirement already satisfied: waitress in c:\\users\\pc\\anaconda3\\envs\\exp-tracking-env\\lib\\site-packages (from mlflow->-r requirements.txt (line 1)) (2.1.1)\n",
      "Requirement already satisfied: pyyaml>=5.1 in c:\\users\\pc\\anaconda3\\envs\\exp-tracking-env\\lib\\site-packages (from mlflow->-r requirements.txt (line 1)) (6.0)\n",
      "Requirement already satisfied: databricks-cli>=0.8.7 in c:\\users\\pc\\anaconda3\\envs\\exp-tracking-env\\lib\\site-packages (from mlflow->-r requirements.txt (line 1)) (0.16.6)\n",
      "Requirement already satisfied: Flask in c:\\users\\pc\\anaconda3\\envs\\exp-tracking-env\\lib\\site-packages (from mlflow->-r requirements.txt (line 1)) (2.1.2)\n",
      "Requirement already satisfied: prometheus-flask-exporter in c:\\users\\pc\\anaconda3\\envs\\exp-tracking-env\\lib\\site-packages (from mlflow->-r requirements.txt (line 1)) (0.20.1)\n",
      "Requirement already satisfied: scipy in c:\\users\\pc\\anaconda3\\envs\\exp-tracking-env\\lib\\site-packages (from mlflow->-r requirements.txt (line 1)) (1.8.1)\n",
      "Requirement already satisfied: sqlalchemy in c:\\users\\pc\\anaconda3\\envs\\exp-tracking-env\\lib\\site-packages (from mlflow->-r requirements.txt (line 1)) (1.4.36)\n",
      "Requirement already satisfied: alembic in c:\\users\\pc\\anaconda3\\envs\\exp-tracking-env\\lib\\site-packages (from mlflow->-r requirements.txt (line 1)) (1.7.7)\n",
      "Requirement already satisfied: numpy in c:\\users\\pc\\anaconda3\\envs\\exp-tracking-env\\lib\\site-packages (from mlflow->-r requirements.txt (line 1)) (1.22.4)\n",
      "Requirement already satisfied: docker>=4.0.0 in c:\\users\\pc\\anaconda3\\envs\\exp-tracking-env\\lib\\site-packages (from mlflow->-r requirements.txt (line 1)) (5.0.3)\n",
      "Requirement already satisfied: requests>=2.17.3 in c:\\users\\pc\\anaconda3\\envs\\exp-tracking-env\\lib\\site-packages (from mlflow->-r requirements.txt (line 1)) (2.27.1)\n",
      "Requirement already satisfied: jupyter-console in c:\\users\\pc\\anaconda3\\envs\\exp-tracking-env\\lib\\site-packages (from jupyter->-r requirements.txt (line 2)) (6.4.3)\n",
      "Requirement already satisfied: nbconvert in c:\\users\\pc\\anaconda3\\envs\\exp-tracking-env\\lib\\site-packages (from jupyter->-r requirements.txt (line 2)) (6.5.0)\n",
      "Requirement already satisfied: notebook in c:\\users\\pc\\anaconda3\\envs\\exp-tracking-env\\lib\\site-packages (from jupyter->-r requirements.txt (line 2)) (6.4.11)\n",
      "Requirement already satisfied: ipywidgets in c:\\users\\pc\\anaconda3\\envs\\exp-tracking-env\\lib\\site-packages (from jupyter->-r requirements.txt (line 2)) (7.7.0)\n",
      "Requirement already satisfied: qtconsole in c:\\users\\pc\\anaconda3\\envs\\exp-tracking-env\\lib\\site-packages (from jupyter->-r requirements.txt (line 2)) (5.3.0)\n",
      "Requirement already satisfied: ipykernel in c:\\users\\pc\\anaconda3\\envs\\exp-tracking-env\\lib\\site-packages (from jupyter->-r requirements.txt (line 2)) (6.13.0)\n",
      "Requirement already satisfied: joblib>=1.0.0 in c:\\users\\pc\\anaconda3\\envs\\exp-tracking-env\\lib\\site-packages (from scikit-learn->-r requirements.txt (line 3)) (1.1.0)\n",
      "Requirement already satisfied: threadpoolctl>=2.0.0 in c:\\users\\pc\\anaconda3\\envs\\exp-tracking-env\\lib\\site-packages (from scikit-learn->-r requirements.txt (line 3)) (3.1.0)\n",
      "Requirement already satisfied: python-dateutil>=2.8.1 in c:\\users\\pc\\anaconda3\\envs\\exp-tracking-env\\lib\\site-packages (from pandas->-r requirements.txt (line 4)) (2.8.2)\n",
      "Requirement already satisfied: matplotlib>=2.2 in c:\\users\\pc\\anaconda3\\envs\\exp-tracking-env\\lib\\site-packages (from seaborn->-r requirements.txt (line 5)) (3.5.2)\n",
      "Requirement already satisfied: tqdm in c:\\users\\pc\\anaconda3\\envs\\exp-tracking-env\\lib\\site-packages (from hyperopt->-r requirements.txt (line 6)) (4.64.0)\n",
      "Requirement already satisfied: future in c:\\users\\pc\\anaconda3\\envs\\exp-tracking-env\\lib\\site-packages (from hyperopt->-r requirements.txt (line 6)) (0.18.2)\n",
      "Requirement already satisfied: six in c:\\users\\pc\\anaconda3\\envs\\exp-tracking-env\\lib\\site-packages (from hyperopt->-r requirements.txt (line 6)) (1.16.0)\n",
      "Requirement already satisfied: networkx>=2.2 in c:\\users\\pc\\anaconda3\\envs\\exp-tracking-env\\lib\\site-packages (from hyperopt->-r requirements.txt (line 6)) (2.8.2)\n",
      "Requirement already satisfied: py4j in c:\\users\\pc\\anaconda3\\envs\\exp-tracking-env\\lib\\site-packages (from hyperopt->-r requirements.txt (line 6)) (0.10.9.5)\n",
      "Requirement already satisfied: fsspec in c:\\users\\pc\\anaconda3\\envs\\exp-tracking-env\\lib\\site-packages (from fastparquet->-r requirements.txt (line 8)) (2022.5.0)\n",
      "Requirement already satisfied: cramjam>=2.3.0 in c:\\users\\pc\\anaconda3\\envs\\exp-tracking-env\\lib\\site-packages (from fastparquet->-r requirements.txt (line 8)) (2.5.0)\n",
      "Requirement already satisfied: jmespath<2.0.0,>=0.7.1 in c:\\users\\pc\\anaconda3\\envs\\exp-tracking-env\\lib\\site-packages (from boto3->-r requirements.txt (line 9)) (1.0.0)\n",
      "Requirement already satisfied: s3transfer<0.6.0,>=0.5.0 in c:\\users\\pc\\anaconda3\\envs\\exp-tracking-env\\lib\\site-packages (from boto3->-r requirements.txt (line 9)) (0.5.2)\n",
      "Requirement already satisfied: botocore<1.27.0,>=1.26.10 in c:\\users\\pc\\anaconda3\\envs\\exp-tracking-env\\lib\\site-packages (from boto3->-r requirements.txt (line 9)) (1.26.10)\n",
      "Requirement already satisfied: urllib3<1.27,>=1.25.4 in c:\\users\\pc\\anaconda3\\envs\\exp-tracking-env\\lib\\site-packages (from botocore<1.27.0,>=1.26.10->boto3->-r requirements.txt (line 9)) (1.26.9)\n",
      "Requirement already satisfied: colorama in c:\\users\\pc\\anaconda3\\envs\\exp-tracking-env\\lib\\site-packages (from click>=7.0->mlflow->-r requirements.txt (line 1)) (0.4.4)\n",
      "Requirement already satisfied: pyjwt>=1.7.0 in c:\\users\\pc\\anaconda3\\envs\\exp-tracking-env\\lib\\site-packages (from databricks-cli>=0.8.7->mlflow->-r requirements.txt (line 1)) (2.4.0)\n",
      "Requirement already satisfied: tabulate>=0.7.7 in c:\\users\\pc\\anaconda3\\envs\\exp-tracking-env\\lib\\site-packages (from databricks-cli>=0.8.7->mlflow->-r requirements.txt (line 1)) (0.8.9)\n",
      "Requirement already satisfied: oauthlib>=3.1.0 in c:\\users\\pc\\anaconda3\\envs\\exp-tracking-env\\lib\\site-packages (from databricks-cli>=0.8.7->mlflow->-r requirements.txt (line 1)) (3.2.0)\n",
      "Requirement already satisfied: pywin32==227 in c:\\users\\pc\\anaconda3\\envs\\exp-tracking-env\\lib\\site-packages (from docker>=4.0.0->mlflow->-r requirements.txt (line 1)) (227)\n",
      "Requirement already satisfied: websocket-client>=0.32.0 in c:\\users\\pc\\anaconda3\\envs\\exp-tracking-env\\lib\\site-packages (from docker>=4.0.0->mlflow->-r requirements.txt (line 1)) (1.3.2)\n",
      "Requirement already satisfied: gitdb<5,>=4.0.1 in c:\\users\\pc\\anaconda3\\envs\\exp-tracking-env\\lib\\site-packages (from gitpython>=2.1.0->mlflow->-r requirements.txt (line 1)) (4.0.9)\n",
      "Requirement already satisfied: smmap<6,>=3.0.1 in c:\\users\\pc\\anaconda3\\envs\\exp-tracking-env\\lib\\site-packages (from gitdb<5,>=4.0.1->gitpython>=2.1.0->mlflow->-r requirements.txt (line 1)) (5.0.0)\n",
      "Requirement already satisfied: zipp>=0.5 in c:\\users\\pc\\anaconda3\\envs\\exp-tracking-env\\lib\\site-packages (from importlib-metadata!=4.7.0,>=3.7.0->mlflow->-r requirements.txt (line 1)) (3.8.0)\n",
      "Requirement already satisfied: pyparsing>=2.2.1 in c:\\users\\pc\\anaconda3\\envs\\exp-tracking-env\\lib\\site-packages (from matplotlib>=2.2->seaborn->-r requirements.txt (line 5)) (3.0.9)\n",
      "Requirement already satisfied: cycler>=0.10 in c:\\users\\pc\\anaconda3\\envs\\exp-tracking-env\\lib\\site-packages (from matplotlib>=2.2->seaborn->-r requirements.txt (line 5)) (0.11.0)\n",
      "Requirement already satisfied: fonttools>=4.22.0 in c:\\users\\pc\\anaconda3\\envs\\exp-tracking-env\\lib\\site-packages (from matplotlib>=2.2->seaborn->-r requirements.txt (line 5)) (4.33.3)\n",
      "Requirement already satisfied: pillow>=6.2.0 in c:\\users\\pc\\anaconda3\\envs\\exp-tracking-env\\lib\\site-packages (from matplotlib>=2.2->seaborn->-r requirements.txt (line 5)) (9.1.1)\n",
      "Requirement already satisfied: kiwisolver>=1.0.1 in c:\\users\\pc\\anaconda3\\envs\\exp-tracking-env\\lib\\site-packages (from matplotlib>=2.2->seaborn->-r requirements.txt (line 5)) (1.4.2)\n",
      "Requirement already satisfied: charset-normalizer~=2.0.0 in c:\\users\\pc\\anaconda3\\envs\\exp-tracking-env\\lib\\site-packages (from requests>=2.17.3->mlflow->-r requirements.txt (line 1)) (2.0.12)\n",
      "Requirement already satisfied: idna<4,>=2.5 in c:\\users\\pc\\anaconda3\\envs\\exp-tracking-env\\lib\\site-packages (from requests>=2.17.3->mlflow->-r requirements.txt (line 1)) (3.3)\n",
      "Requirement already satisfied: certifi>=2017.4.17 in c:\\users\\pc\\anaconda3\\envs\\exp-tracking-env\\lib\\site-packages (from requests>=2.17.3->mlflow->-r requirements.txt (line 1)) (2022.5.18.1)\n",
      "Requirement already satisfied: Mako in c:\\users\\pc\\anaconda3\\envs\\exp-tracking-env\\lib\\site-packages (from alembic->mlflow->-r requirements.txt (line 1)) (1.2.0)\n",
      "Requirement already satisfied: greenlet!=0.4.17 in c:\\users\\pc\\anaconda3\\envs\\exp-tracking-env\\lib\\site-packages (from sqlalchemy->mlflow->-r requirements.txt (line 1)) (1.1.2)\n",
      "Requirement already satisfied: itsdangerous>=2.0 in c:\\users\\pc\\anaconda3\\envs\\exp-tracking-env\\lib\\site-packages (from Flask->mlflow->-r requirements.txt (line 1)) (2.1.2)\n",
      "Requirement already satisfied: Jinja2>=3.0 in c:\\users\\pc\\anaconda3\\envs\\exp-tracking-env\\lib\\site-packages (from Flask->mlflow->-r requirements.txt (line 1)) (3.1.2)\n",
      "Requirement already satisfied: Werkzeug>=2.0 in c:\\users\\pc\\anaconda3\\envs\\exp-tracking-env\\lib\\site-packages (from Flask->mlflow->-r requirements.txt (line 1)) (2.1.2)\n",
      "Requirement already satisfied: MarkupSafe>=2.0 in c:\\users\\pc\\anaconda3\\envs\\exp-tracking-env\\lib\\site-packages (from Jinja2>=3.0->Flask->mlflow->-r requirements.txt (line 1)) (2.1.1)\n",
      "Requirement already satisfied: psutil in c:\\users\\pc\\anaconda3\\envs\\exp-tracking-env\\lib\\site-packages (from ipykernel->jupyter->-r requirements.txt (line 2)) (5.9.1)\n",
      "Requirement already satisfied: nest-asyncio in c:\\users\\pc\\anaconda3\\envs\\exp-tracking-env\\lib\\site-packages (from ipykernel->jupyter->-r requirements.txt (line 2)) (1.5.5)\n",
      "Requirement already satisfied: traitlets>=5.1.0 in c:\\users\\pc\\anaconda3\\envs\\exp-tracking-env\\lib\\site-packages (from ipykernel->jupyter->-r requirements.txt (line 2)) (5.2.1.post0)\n",
      "Requirement already satisfied: tornado>=6.1 in c:\\users\\pc\\anaconda3\\envs\\exp-tracking-env\\lib\\site-packages (from ipykernel->jupyter->-r requirements.txt (line 2)) (6.1)\n",
      "Requirement already satisfied: ipython>=7.23.1 in c:\\users\\pc\\anaconda3\\envs\\exp-tracking-env\\lib\\site-packages (from ipykernel->jupyter->-r requirements.txt (line 2)) (8.4.0)\n",
      "Requirement already satisfied: jupyter-client>=6.1.12 in c:\\users\\pc\\anaconda3\\envs\\exp-tracking-env\\lib\\site-packages (from ipykernel->jupyter->-r requirements.txt (line 2)) (7.3.1)\n",
      "Requirement already satisfied: debugpy>=1.0 in c:\\users\\pc\\anaconda3\\envs\\exp-tracking-env\\lib\\site-packages (from ipykernel->jupyter->-r requirements.txt (line 2)) (1.6.0)\n",
      "Requirement already satisfied: matplotlib-inline>=0.1 in c:\\users\\pc\\anaconda3\\envs\\exp-tracking-env\\lib\\site-packages (from ipykernel->jupyter->-r requirements.txt (line 2)) (0.1.3)\n",
      "Requirement already satisfied: jedi>=0.16 in c:\\users\\pc\\anaconda3\\envs\\exp-tracking-env\\lib\\site-packages (from ipython>=7.23.1->ipykernel->jupyter->-r requirements.txt (line 2)) (0.18.1)\n",
      "Requirement already satisfied: stack-data in c:\\users\\pc\\anaconda3\\envs\\exp-tracking-env\\lib\\site-packages (from ipython>=7.23.1->ipykernel->jupyter->-r requirements.txt (line 2)) (0.2.0)\n",
      "Requirement already satisfied: backcall in c:\\users\\pc\\anaconda3\\envs\\exp-tracking-env\\lib\\site-packages (from ipython>=7.23.1->ipykernel->jupyter->-r requirements.txt (line 2)) (0.2.0)\n",
      "Requirement already satisfied: prompt-toolkit!=3.0.0,!=3.0.1,<3.1.0,>=2.0.0 in c:\\users\\pc\\anaconda3\\envs\\exp-tracking-env\\lib\\site-packages (from ipython>=7.23.1->ipykernel->jupyter->-r requirements.txt (line 2)) (3.0.29)\n",
      "Requirement already satisfied: pickleshare in c:\\users\\pc\\anaconda3\\envs\\exp-tracking-env\\lib\\site-packages (from ipython>=7.23.1->ipykernel->jupyter->-r requirements.txt (line 2)) (0.7.5)\n",
      "Requirement already satisfied: pygments>=2.4.0 in c:\\users\\pc\\anaconda3\\envs\\exp-tracking-env\\lib\\site-packages (from ipython>=7.23.1->ipykernel->jupyter->-r requirements.txt (line 2)) (2.12.0)\n",
      "Requirement already satisfied: setuptools>=18.5 in c:\\users\\pc\\anaconda3\\envs\\exp-tracking-env\\lib\\site-packages (from ipython>=7.23.1->ipykernel->jupyter->-r requirements.txt (line 2)) (62.3.2)\n",
      "Requirement already satisfied: decorator in c:\\users\\pc\\anaconda3\\envs\\exp-tracking-env\\lib\\site-packages (from ipython>=7.23.1->ipykernel->jupyter->-r requirements.txt (line 2)) (5.1.1)\n",
      "Requirement already satisfied: parso<0.9.0,>=0.8.0 in c:\\users\\pc\\anaconda3\\envs\\exp-tracking-env\\lib\\site-packages (from jedi>=0.16->ipython>=7.23.1->ipykernel->jupyter->-r requirements.txt (line 2)) (0.8.3)\n",
      "Requirement already satisfied: jupyter-core>=4.9.2 in c:\\users\\pc\\anaconda3\\envs\\exp-tracking-env\\lib\\site-packages (from jupyter-client>=6.1.12->ipykernel->jupyter->-r requirements.txt (line 2)) (4.10.0)\n",
      "Requirement already satisfied: pyzmq>=22.3 in c:\\users\\pc\\anaconda3\\envs\\exp-tracking-env\\lib\\site-packages (from jupyter-client>=6.1.12->ipykernel->jupyter->-r requirements.txt (line 2)) (23.0.0)\n",
      "Requirement already satisfied: wcwidth in c:\\users\\pc\\anaconda3\\envs\\exp-tracking-env\\lib\\site-packages (from prompt-toolkit!=3.0.0,!=3.0.1,<3.1.0,>=2.0.0->ipython>=7.23.1->ipykernel->jupyter->-r requirements.txt (line 2)) (0.2.5)\n",
      "Requirement already satisfied: ipython-genutils~=0.2.0 in c:\\users\\pc\\anaconda3\\envs\\exp-tracking-env\\lib\\site-packages (from ipywidgets->jupyter->-r requirements.txt (line 2)) (0.2.0)\n",
      "Requirement already satisfied: widgetsnbextension~=3.6.0 in c:\\users\\pc\\anaconda3\\envs\\exp-tracking-env\\lib\\site-packages (from ipywidgets->jupyter->-r requirements.txt (line 2)) (3.6.0)\n",
      "Requirement already satisfied: jupyterlab-widgets>=1.0.0 in c:\\users\\pc\\anaconda3\\envs\\exp-tracking-env\\lib\\site-packages (from ipywidgets->jupyter->-r requirements.txt (line 2)) (1.1.0)\n",
      "Requirement already satisfied: nbformat>=4.2.0 in c:\\users\\pc\\anaconda3\\envs\\exp-tracking-env\\lib\\site-packages (from ipywidgets->jupyter->-r requirements.txt (line 2)) (5.4.0)\n",
      "Requirement already satisfied: fastjsonschema in c:\\users\\pc\\anaconda3\\envs\\exp-tracking-env\\lib\\site-packages (from nbformat>=4.2.0->ipywidgets->jupyter->-r requirements.txt (line 2)) (2.15.3)\n",
      "Requirement already satisfied: jsonschema>=2.6 in c:\\users\\pc\\anaconda3\\envs\\exp-tracking-env\\lib\\site-packages (from nbformat>=4.2.0->ipywidgets->jupyter->-r requirements.txt (line 2)) (4.5.1)\n",
      "Requirement already satisfied: attrs>=17.4.0 in c:\\users\\pc\\anaconda3\\envs\\exp-tracking-env\\lib\\site-packages (from jsonschema>=2.6->nbformat>=4.2.0->ipywidgets->jupyter->-r requirements.txt (line 2)) (21.4.0)\n",
      "Requirement already satisfied: pyrsistent!=0.17.0,!=0.17.1,!=0.17.2,>=0.14.0 in c:\\users\\pc\\anaconda3\\envs\\exp-tracking-env\\lib\\site-packages (from jsonschema>=2.6->nbformat>=4.2.0->ipywidgets->jupyter->-r requirements.txt (line 2)) (0.18.1)\n",
      "Requirement already satisfied: terminado>=0.8.3 in c:\\users\\pc\\anaconda3\\envs\\exp-tracking-env\\lib\\site-packages (from notebook->jupyter->-r requirements.txt (line 2)) (0.15.0)\n",
      "Requirement already satisfied: prometheus-client in c:\\users\\pc\\anaconda3\\envs\\exp-tracking-env\\lib\\site-packages (from notebook->jupyter->-r requirements.txt (line 2)) (0.14.1)\n",
      "Requirement already satisfied: argon2-cffi in c:\\users\\pc\\anaconda3\\envs\\exp-tracking-env\\lib\\site-packages (from notebook->jupyter->-r requirements.txt (line 2)) (21.3.0)\n",
      "Requirement already satisfied: Send2Trash>=1.8.0 in c:\\users\\pc\\anaconda3\\envs\\exp-tracking-env\\lib\\site-packages (from notebook->jupyter->-r requirements.txt (line 2)) (1.8.0)\n",
      "Requirement already satisfied: bleach in c:\\users\\pc\\anaconda3\\envs\\exp-tracking-env\\lib\\site-packages (from nbconvert->jupyter->-r requirements.txt (line 2)) (5.0.0)\n",
      "Requirement already satisfied: jupyterlab-pygments in c:\\users\\pc\\anaconda3\\envs\\exp-tracking-env\\lib\\site-packages (from nbconvert->jupyter->-r requirements.txt (line 2)) (0.2.2)\n",
      "Requirement already satisfied: defusedxml in c:\\users\\pc\\anaconda3\\envs\\exp-tracking-env\\lib\\site-packages (from nbconvert->jupyter->-r requirements.txt (line 2)) (0.7.1)\n",
      "Requirement already satisfied: beautifulsoup4 in c:\\users\\pc\\anaconda3\\envs\\exp-tracking-env\\lib\\site-packages (from nbconvert->jupyter->-r requirements.txt (line 2)) (4.11.1)\n",
      "Requirement already satisfied: nbclient>=0.5.0 in c:\\users\\pc\\anaconda3\\envs\\exp-tracking-env\\lib\\site-packages (from nbconvert->jupyter->-r requirements.txt (line 2)) (0.6.3)\n",
      "Requirement already satisfied: mistune<2,>=0.8.1 in c:\\users\\pc\\anaconda3\\envs\\exp-tracking-env\\lib\\site-packages (from nbconvert->jupyter->-r requirements.txt (line 2)) (0.8.4)\n",
      "Requirement already satisfied: pandocfilters>=1.4.1 in c:\\users\\pc\\anaconda3\\envs\\exp-tracking-env\\lib\\site-packages (from nbconvert->jupyter->-r requirements.txt (line 2)) (1.5.0)\n",
      "Requirement already satisfied: tinycss2 in c:\\users\\pc\\anaconda3\\envs\\exp-tracking-env\\lib\\site-packages (from nbconvert->jupyter->-r requirements.txt (line 2)) (1.1.1)\n",
      "Requirement already satisfied: pywinpty>=1.1.0 in c:\\users\\pc\\anaconda3\\envs\\exp-tracking-env\\lib\\site-packages (from terminado>=0.8.3->notebook->jupyter->-r requirements.txt (line 2)) (2.0.5)\n",
      "Requirement already satisfied: argon2-cffi-bindings in c:\\users\\pc\\anaconda3\\envs\\exp-tracking-env\\lib\\site-packages (from argon2-cffi->notebook->jupyter->-r requirements.txt (line 2)) (21.2.0)\n",
      "Requirement already satisfied: cffi>=1.0.1 in c:\\users\\pc\\anaconda3\\envs\\exp-tracking-env\\lib\\site-packages (from argon2-cffi-bindings->argon2-cffi->notebook->jupyter->-r requirements.txt (line 2)) (1.15.0)\n",
      "Requirement already satisfied: pycparser in c:\\users\\pc\\anaconda3\\envs\\exp-tracking-env\\lib\\site-packages (from cffi>=1.0.1->argon2-cffi-bindings->argon2-cffi->notebook->jupyter->-r requirements.txt (line 2)) (2.21)\n",
      "Requirement already satisfied: soupsieve>1.2 in c:\\users\\pc\\anaconda3\\envs\\exp-tracking-env\\lib\\site-packages (from beautifulsoup4->nbconvert->jupyter->-r requirements.txt (line 2)) (2.3.2.post1)\n",
      "Requirement already satisfied: webencodings in c:\\users\\pc\\anaconda3\\envs\\exp-tracking-env\\lib\\site-packages (from bleach->nbconvert->jupyter->-r requirements.txt (line 2)) (0.5.1)\n",
      "Requirement already satisfied: qtpy>=2.0.1 in c:\\users\\pc\\anaconda3\\envs\\exp-tracking-env\\lib\\site-packages (from qtconsole->jupyter->-r requirements.txt (line 2)) (2.1.0)\n",
      "Requirement already satisfied: asttokens in c:\\users\\pc\\anaconda3\\envs\\exp-tracking-env\\lib\\site-packages (from stack-data->ipython>=7.23.1->ipykernel->jupyter->-r requirements.txt (line 2)) (2.0.5)\n",
      "Requirement already satisfied: pure-eval in c:\\users\\pc\\anaconda3\\envs\\exp-tracking-env\\lib\\site-packages (from stack-data->ipython>=7.23.1->ipykernel->jupyter->-r requirements.txt (line 2)) (0.2.2)\n",
      "Requirement already satisfied: executing in c:\\users\\pc\\anaconda3\\envs\\exp-tracking-env\\lib\\site-packages (from stack-data->ipython>=7.23.1->ipykernel->jupyter->-r requirements.txt (line 2)) (0.8.3)\n"
     ]
    }
   ],
   "source": [
    "!pip install -r requirements.txt"
   ]
  },
  {
   "cell_type": "code",
   "execution_count": 9,
   "id": "bb8bdb02",
   "metadata": {},
   "outputs": [
    {
     "name": "stdout",
     "output_type": "stream",
     "text": [
      "mlflow, version 1.26.1\n"
     ]
    }
   ],
   "source": [
    "# Question 1: MLflow version\n",
    "\n",
    "!mlflow --version"
   ]
  },
  {
   "cell_type": "code",
   "execution_count": 10,
   "id": "eb617d16",
   "metadata": {},
   "outputs": [
    {
     "name": "stdout",
     "output_type": "stream",
     "text": [
      "C:\\Users\\PC\\mlops-zoomcamp-homework\\Homework_02\\homework\n"
     ]
    }
   ],
   "source": [
    "%cd homework"
   ]
  },
  {
   "cell_type": "code",
   "execution_count": 11,
   "id": "00884349",
   "metadata": {},
   "outputs": [
    {
     "name": "stdout",
     "output_type": "stream",
     "text": [
      " El volumen de la unidad C no tiene etiqueta.\n",
      " El n£mero de serie del volumen es: 24D8-6066\n",
      "\n",
      " Directorio de C:\\Users\\PC\\mlops-zoomcamp-homework\\Homework_02\\homework\n",
      "\n",
      "29/05/2022  23:01    <DIR>          .\n",
      "29/05/2022  23:01    <DIR>          ..\n",
      "29/05/2022  22:57             2.023 hpo.py\n",
      "29/05/2022  22:59             2.726 preprocess_data.py\n",
      "29/05/2022  23:00             2.952 register_model.py\n",
      "30/05/2022  01:42             1.113 train.py\n",
      "               4 archivos          8.814 bytes\n",
      "               2 dirs  102.232.616.960 bytes libres\n"
     ]
    }
   ],
   "source": [
    "!dir"
   ]
  },
  {
   "cell_type": "code",
   "execution_count": 12,
   "id": "7ee0aaab",
   "metadata": {},
   "outputs": [],
   "source": [
    "!python preprocess_data.py --raw_data_path ../data --dest_path ../output"
   ]
  },
  {
   "cell_type": "code",
   "execution_count": 13,
   "id": "a914ced4",
   "metadata": {},
   "outputs": [
    {
     "name": "stdout",
     "output_type": "stream",
     "text": [
      "C:\\Users\\PC\\mlops-zoomcamp-homework\\Homework_02\\output\n"
     ]
    }
   ],
   "source": [
    "%cd ../output"
   ]
  },
  {
   "cell_type": "code",
   "execution_count": 14,
   "id": "a0bf16ba",
   "metadata": {},
   "outputs": [
    {
     "name": "stdout",
     "output_type": "stream",
     "text": [
      "4\n"
     ]
    }
   ],
   "source": [
    "#Question 2: How many files saved to output folder?\n",
    "\n",
    "import os\n",
    "print(len([name for name in os.listdir('.') if os.path.isfile(name)]))"
   ]
  },
  {
   "cell_type": "code",
   "execution_count": 15,
   "id": "91f469d8",
   "metadata": {},
   "outputs": [
    {
     "name": "stdout",
     "output_type": "stream",
     "text": [
      "C:\\Users\\PC\\mlops-zoomcamp-homework\\Homework_02\n"
     ]
    }
   ],
   "source": [
    "%cd .."
   ]
  },
  {
   "cell_type": "code",
   "execution_count": 17,
   "id": "f32d45ab",
   "metadata": {},
   "outputs": [
    {
     "name": "stderr",
     "output_type": "stream",
     "text": [
      "2022/06/01 11:18:07 WARNING mlflow.utils.autologging_utils: MLflow autologging encountered a warning: \"C:\\Users\\PC\\anaconda3\\envs\\exp-tracking-env\\lib\\site-packages\\_distutils_hack\\__init__.py:30: UserWarning: Setuptools is replacing distutils.\"\n"
     ]
    }
   ],
   "source": [
    "# Added this in train.py right before rf = RandomForestRegressor(max_depth=10, random_state=0)\n",
    "#    mlflow.set_tracking_uri(\"sqlite:///mlflow.db\")\n",
    "#    mlflow.set_experiment(\"nyc-taxi-experiment\")\n",
    "#    mlflow.sklearn.autolog()\n",
    "#    with mlflow.start_run():\n",
    "\n",
    "!python homework/train.py"
   ]
  },
  {
   "cell_type": "code",
   "execution_count": 22,
   "id": "9862775d",
   "metadata": {},
   "outputs": [],
   "source": [
    "# Question 3 went to mlflow ui and look in the last run-->parameters\n",
    "\n",
    "# Question 4 run in Anaconda console:\n",
    "# mlflow ui --backend-store-uri sqlite:///mlflow.db --default-artifact-root ./mlruns"
   ]
  },
  {
   "cell_type": "code",
   "execution_count": null,
   "id": "2561acbb",
   "metadata": {},
   "outputs": [],
   "source": []
  }
 ],
 "metadata": {
  "kernelspec": {
   "display_name": "Python 3 (ipykernel)",
   "language": "python",
   "name": "python3"
  },
  "language_info": {
   "codemirror_mode": {
    "name": "ipython",
    "version": 3
   },
   "file_extension": ".py",
   "mimetype": "text/x-python",
   "name": "python",
   "nbconvert_exporter": "python",
   "pygments_lexer": "ipython3",
   "version": "3.9.12"
  }
 },
 "nbformat": 4,
 "nbformat_minor": 5
}
