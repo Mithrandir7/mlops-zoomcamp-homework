{
 "cells": [
  {
   "cell_type": "code",
   "execution_count": 3,
   "id": "d10b1f6c",
   "metadata": {},
   "outputs": [
    {
     "name": "stdout",
     "output_type": "stream",
     "text": [
      "mlflow, version 1.26.1\n"
     ]
    }
   ],
   "source": [
    "# Question 1: MLflow version\n",
    "\n",
    "!mlflow --version"
   ]
  },
  {
   "cell_type": "code",
   "execution_count": 7,
   "id": "d23f0c7d",
   "metadata": {},
   "outputs": [
    {
     "name": "stdout",
     "output_type": "stream",
     "text": [
      "C:\\Users\\PC\\mlops-zoomcamp-homework\\Homework_02\\homework\n"
     ]
    }
   ],
   "source": [
    "%cd homework"
   ]
  },
  {
   "cell_type": "code",
   "execution_count": 8,
   "id": "c811bb49",
   "metadata": {},
   "outputs": [
    {
     "name": "stdout",
     "output_type": "stream",
     "text": [
      " El volumen de la unidad C no tiene etiqueta.\n",
      " El n£mero de serie del volumen es: 24D8-6066\n",
      "\n",
      " Directorio de C:\\Users\\PC\\mlops-zoomcamp-homework\\Homework_02\\homework\n",
      "\n",
      "29/05/2022  23:01    <DIR>          .\n",
      "29/05/2022  23:01    <DIR>          ..\n",
      "29/05/2022  22:57             2.023 hpo.py\n",
      "29/05/2022  22:59             2.726 preprocess_data.py\n",
      "29/05/2022  23:00             2.952 register_model.py\n",
      "29/05/2022  23:01               922 train.py\n",
      "               4 archivos          8.623 bytes\n",
      "               2 dirs  96.333.139.968 bytes libres\n"
     ]
    }
   ],
   "source": [
    "!dir"
   ]
  },
  {
   "cell_type": "code",
   "execution_count": 10,
   "id": "628a8012",
   "metadata": {},
   "outputs": [],
   "source": [
    "!python preprocess_data.py --raw_data_path ../data --dest_path ../output"
   ]
  },
  {
   "cell_type": "code",
   "execution_count": 11,
   "id": "c531844c",
   "metadata": {},
   "outputs": [
    {
     "name": "stdout",
     "output_type": "stream",
     "text": [
      "C:\\Users\\PC\\mlops-zoomcamp-homework\\Homework_02\\output\n"
     ]
    }
   ],
   "source": [
    "%cd ../output"
   ]
  },
  {
   "cell_type": "code",
   "execution_count": 16,
   "id": "548a13f3",
   "metadata": {},
   "outputs": [
    {
     "name": "stdout",
     "output_type": "stream",
     "text": [
      "4\n"
     ]
    }
   ],
   "source": [
    "#Question 2: How many files saved to output folder?\n",
    "\n",
    "import os\n",
    "print(len([name for name in os.listdir('.') if os.path.isfile(name)]))"
   ]
  },
  {
   "cell_type": "code",
   "execution_count": null,
   "id": "8ed22ac0",
   "metadata": {},
   "outputs": [],
   "source": []
  },
  {
   "cell_type": "code",
   "execution_count": null,
   "id": "6a1190e4",
   "metadata": {},
   "outputs": [],
   "source": []
  }
 ],
 "metadata": {
  "kernelspec": {
   "display_name": "Python 3 (ipykernel)",
   "language": "python",
   "name": "python3"
  },
  "language_info": {
   "codemirror_mode": {
    "name": "ipython",
    "version": 3
   },
   "file_extension": ".py",
   "mimetype": "text/x-python",
   "name": "python",
   "nbconvert_exporter": "python",
   "pygments_lexer": "ipython3",
   "version": "3.9.12"
  }
 },
 "nbformat": 4,
 "nbformat_minor": 5
}
