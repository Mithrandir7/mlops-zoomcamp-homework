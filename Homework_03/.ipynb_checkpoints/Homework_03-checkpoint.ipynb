{
 "cells": [
  {
   "cell_type": "code",
   "execution_count": 4,
   "id": "77450031",
   "metadata": {},
   "outputs": [],
   "source": [
    "# Previously created environment in Anaconda console with conda create -n conda create -n workflow-orchestration-env python=3.9\n",
    "# and activate with conda activate workflow-orchestration-env"
   ]
  },
  {
   "cell_type": "code",
   "execution_count": 5,
   "id": "25f002af",
   "metadata": {},
   "outputs": [
    {
     "name": "stdout",
     "output_type": "stream",
     "text": [
      "workflow-orchestration-env\n"
     ]
    }
   ],
   "source": [
    "# Sanity check that the environment is active\n",
    "import os\n",
    "print (os.environ['CONDA_DEFAULT_ENV'])"
   ]
  },
  {
   "cell_type": "code",
   "execution_count": 6,
   "id": "cc743858",
   "metadata": {},
   "outputs": [
    {
     "name": "stdout",
     "output_type": "stream",
     "text": [
      "Requirement already satisfied: mlflow in /home/usuario/anaconda3/envs/workflow-orchestration-env/lib/python3.9/site-packages (from -r requirements.txt (line 1)) (1.26.1)\n",
      "Requirement already satisfied: jupyter in /home/usuario/anaconda3/envs/workflow-orchestration-env/lib/python3.9/site-packages (from -r requirements.txt (line 2)) (1.0.0)\n",
      "Requirement already satisfied: scikit-learn in /home/usuario/anaconda3/envs/workflow-orchestration-env/lib/python3.9/site-packages (from -r requirements.txt (line 3)) (1.1.1)\n",
      "Requirement already satisfied: pandas in /home/usuario/anaconda3/envs/workflow-orchestration-env/lib/python3.9/site-packages (from -r requirements.txt (line 4)) (1.4.2)\n",
      "Requirement already satisfied: seaborn in /home/usuario/anaconda3/envs/workflow-orchestration-env/lib/python3.9/site-packages (from -r requirements.txt (line 5)) (0.11.2)\n",
      "Requirement already satisfied: hyperopt in /home/usuario/anaconda3/envs/workflow-orchestration-env/lib/python3.9/site-packages (from -r requirements.txt (line 6)) (0.2.7)\n",
      "Requirement already satisfied: xgboost in /home/usuario/anaconda3/envs/workflow-orchestration-env/lib/python3.9/site-packages (from -r requirements.txt (line 7)) (1.6.1)\n",
      "Requirement already satisfied: fastparquet in /home/usuario/anaconda3/envs/workflow-orchestration-env/lib/python3.9/site-packages (from -r requirements.txt (line 8)) (0.8.1)\n",
      "Requirement already satisfied: prefect==2.0b5 in /home/usuario/anaconda3/envs/workflow-orchestration-env/lib/python3.9/site-packages (from -r requirements.txt (line 9)) (2.0b5)\n",
      "Requirement already satisfied: cryptography>=36.0.1 in /home/usuario/anaconda3/envs/workflow-orchestration-env/lib/python3.9/site-packages (from prefect==2.0b5->-r requirements.txt (line 9)) (37.0.2)\n",
      "Requirement already satisfied: pydantic>=1.8.2 in /home/usuario/anaconda3/envs/workflow-orchestration-env/lib/python3.9/site-packages (from prefect==2.0b5->-r requirements.txt (line 9)) (1.9.1)\n",
      "Requirement already satisfied: typer>=0.4.0 in /home/usuario/anaconda3/envs/workflow-orchestration-env/lib/python3.9/site-packages (from prefect==2.0b5->-r requirements.txt (line 9)) (0.4.1)\n",
      "Requirement already satisfied: docker>=4.0 in /home/usuario/anaconda3/envs/workflow-orchestration-env/lib/python3.9/site-packages (from prefect==2.0b5->-r requirements.txt (line 9)) (5.0.3)\n",
      "Requirement already satisfied: asgi-lifespan>=1.0 in /home/usuario/anaconda3/envs/workflow-orchestration-env/lib/python3.9/site-packages (from prefect==2.0b5->-r requirements.txt (line 9)) (1.0.1)\n",
      "Requirement already satisfied: click<8.2,>=8.0 in /home/usuario/anaconda3/envs/workflow-orchestration-env/lib/python3.9/site-packages (from prefect==2.0b5->-r requirements.txt (line 9)) (8.0.4)\n",
      "Requirement already satisfied: aiofiles>=0.7.0 in /home/usuario/anaconda3/envs/workflow-orchestration-env/lib/python3.9/site-packages (from prefect==2.0b5->-r requirements.txt (line 9)) (0.8.0)\n",
      "Requirement already satisfied: cloudpickle>=1.5 in /home/usuario/anaconda3/envs/workflow-orchestration-env/lib/python3.9/site-packages (from prefect==2.0b5->-r requirements.txt (line 9)) (2.1.0)\n",
      "Requirement already satisfied: typing-extensions>=3.10.0.1 in /home/usuario/anaconda3/envs/workflow-orchestration-env/lib/python3.9/site-packages (from prefect==2.0b5->-r requirements.txt (line 9)) (4.2.0)\n",
      "Requirement already satisfied: boto3>=1.20.0 in /home/usuario/anaconda3/envs/workflow-orchestration-env/lib/python3.9/site-packages (from prefect==2.0b5->-r requirements.txt (line 9)) (1.24.9)\n",
      "Requirement already satisfied: sqlalchemy[asyncio]!=1.4.33,>=1.4.20 in /home/usuario/anaconda3/envs/workflow-orchestration-env/lib/python3.9/site-packages (from prefect==2.0b5->-r requirements.txt (line 9)) (1.4.37)\n",
      "Requirement already satisfied: uvicorn>=0.14.0 in /home/usuario/anaconda3/envs/workflow-orchestration-env/lib/python3.9/site-packages (from prefect==2.0b5->-r requirements.txt (line 9)) (0.17.6)\n",
      "Requirement already satisfied: toml>=0.10.0 in /home/usuario/anaconda3/envs/workflow-orchestration-env/lib/python3.9/site-packages (from prefect==2.0b5->-r requirements.txt (line 9)) (0.10.2)\n",
      "Requirement already satisfied: rich>=10.0 in /home/usuario/anaconda3/envs/workflow-orchestration-env/lib/python3.9/site-packages (from prefect==2.0b5->-r requirements.txt (line 9)) (12.4.4)\n",
      "Requirement already satisfied: distributed>=2021.08.0 in /home/usuario/anaconda3/envs/workflow-orchestration-env/lib/python3.9/site-packages (from prefect==2.0b5->-r requirements.txt (line 9)) (2022.6.0)\n",
      "Requirement already satisfied: coolname>=1.0.4 in /home/usuario/anaconda3/envs/workflow-orchestration-env/lib/python3.9/site-packages (from prefect==2.0b5->-r requirements.txt (line 9)) (1.1.0)\n",
      "Requirement already satisfied: python-slugify>=5.0 in /home/usuario/anaconda3/envs/workflow-orchestration-env/lib/python3.9/site-packages (from prefect==2.0b5->-r requirements.txt (line 9)) (6.1.2)\n",
      "Requirement already satisfied: aiosqlite>=0.17.0 in /home/usuario/anaconda3/envs/workflow-orchestration-env/lib/python3.9/site-packages (from prefect==2.0b5->-r requirements.txt (line 9)) (0.17.0)\n",
      "Requirement already satisfied: alembic>=1.7.5 in /home/usuario/anaconda3/envs/workflow-orchestration-env/lib/python3.9/site-packages (from prefect==2.0b5->-r requirements.txt (line 9)) (1.8.0)\n",
      "Requirement already satisfied: pytz>=2021.1 in /home/usuario/anaconda3/envs/workflow-orchestration-env/lib/python3.9/site-packages (from prefect==2.0b5->-r requirements.txt (line 9)) (2022.1)\n",
      "Requirement already satisfied: croniter>=1.0.1 in /home/usuario/anaconda3/envs/workflow-orchestration-env/lib/python3.9/site-packages (from prefect==2.0b5->-r requirements.txt (line 9)) (1.3.5)\n",
      "Requirement already satisfied: google-cloud-storage>=2.1.0 in /home/usuario/anaconda3/envs/workflow-orchestration-env/lib/python3.9/site-packages (from prefect==2.0b5->-r requirements.txt (line 9)) (2.4.0)\n",
      "Requirement already satisfied: httpx>=0.22 in /home/usuario/anaconda3/envs/workflow-orchestration-env/lib/python3.9/site-packages (from prefect==2.0b5->-r requirements.txt (line 9)) (0.23.0)\n",
      "Requirement already satisfied: pyyaml>=5.1 in /home/usuario/anaconda3/envs/workflow-orchestration-env/lib/python3.9/site-packages (from prefect==2.0b5->-r requirements.txt (line 9)) (6.0)\n",
      "Requirement already satisfied: asyncpg>=0.23 in /home/usuario/anaconda3/envs/workflow-orchestration-env/lib/python3.9/site-packages (from prefect==2.0b5->-r requirements.txt (line 9)) (0.25.0)\n",
      "Requirement already satisfied: fastapi>=0.70 in /home/usuario/anaconda3/envs/workflow-orchestration-env/lib/python3.9/site-packages (from prefect==2.0b5->-r requirements.txt (line 9)) (0.78.0)\n",
      "Requirement already satisfied: kubernetes>=17.17.0 in /home/usuario/anaconda3/envs/workflow-orchestration-env/lib/python3.9/site-packages (from prefect==2.0b5->-r requirements.txt (line 9)) (23.6.0)\n",
      "Requirement already satisfied: pendulum>=2.1.2 in /home/usuario/anaconda3/envs/workflow-orchestration-env/lib/python3.9/site-packages (from prefect==2.0b5->-r requirements.txt (line 9)) (2.1.2)\n",
      "Requirement already satisfied: azure-storage-blob>=12.9.0 in /home/usuario/anaconda3/envs/workflow-orchestration-env/lib/python3.9/site-packages (from prefect==2.0b5->-r requirements.txt (line 9)) (12.12.0)\n",
      "Requirement already satisfied: anyio>=3.4.0 in /home/usuario/anaconda3/envs/workflow-orchestration-env/lib/python3.9/site-packages (from prefect==2.0b5->-r requirements.txt (line 9)) (3.6.1)\n",
      "Requirement already satisfied: readchar>=3.0.5 in /home/usuario/anaconda3/envs/workflow-orchestration-env/lib/python3.9/site-packages (from prefect==2.0b5->-r requirements.txt (line 9)) (3.0.5)\n",
      "Requirement already satisfied: ray[default]>=1.9 in /home/usuario/anaconda3/envs/workflow-orchestration-env/lib/python3.9/site-packages (from prefect==2.0b5->-r requirements.txt (line 9)) (1.13.0)\n",
      "Requirement already satisfied: fsspec>=2021.7.0 in /home/usuario/anaconda3/envs/workflow-orchestration-env/lib/python3.9/site-packages (from prefect==2.0b5->-r requirements.txt (line 9)) (2022.5.0)\n",
      "Requirement already satisfied: querystring-parser in /home/usuario/anaconda3/envs/workflow-orchestration-env/lib/python3.9/site-packages (from mlflow->-r requirements.txt (line 1)) (1.2.4)\n",
      "Requirement already satisfied: gunicorn in /home/usuario/anaconda3/envs/workflow-orchestration-env/lib/python3.9/site-packages (from mlflow->-r requirements.txt (line 1)) (20.1.0)\n",
      "Requirement already satisfied: importlib-metadata!=4.7.0,>=3.7.0 in /home/usuario/anaconda3/envs/workflow-orchestration-env/lib/python3.9/site-packages (from mlflow->-r requirements.txt (line 1)) (4.11.4)\n",
      "Requirement already satisfied: sqlparse>=0.3.1 in /home/usuario/anaconda3/envs/workflow-orchestration-env/lib/python3.9/site-packages (from mlflow->-r requirements.txt (line 1)) (0.4.2)\n",
      "Requirement already satisfied: Flask in /home/usuario/anaconda3/envs/workflow-orchestration-env/lib/python3.9/site-packages (from mlflow->-r requirements.txt (line 1)) (2.1.2)\n",
      "Requirement already satisfied: requests>=2.17.3 in /home/usuario/anaconda3/envs/workflow-orchestration-env/lib/python3.9/site-packages (from mlflow->-r requirements.txt (line 1)) (2.28.0)\n",
      "Requirement already satisfied: protobuf>=3.12.0 in /home/usuario/anaconda3/envs/workflow-orchestration-env/lib/python3.9/site-packages (from mlflow->-r requirements.txt (line 1)) (3.20.1)\n",
      "Requirement already satisfied: packaging in /home/usuario/anaconda3/envs/workflow-orchestration-env/lib/python3.9/site-packages (from mlflow->-r requirements.txt (line 1)) (21.3)\n",
      "Requirement already satisfied: databricks-cli>=0.8.7 in /home/usuario/anaconda3/envs/workflow-orchestration-env/lib/python3.9/site-packages (from mlflow->-r requirements.txt (line 1)) (0.16.7)\n",
      "Requirement already satisfied: numpy in /home/usuario/anaconda3/envs/workflow-orchestration-env/lib/python3.9/site-packages (from mlflow->-r requirements.txt (line 1)) (1.22.4)\n",
      "Requirement already satisfied: prometheus-flask-exporter in /home/usuario/anaconda3/envs/workflow-orchestration-env/lib/python3.9/site-packages (from mlflow->-r requirements.txt (line 1)) (0.20.2)\n",
      "Requirement already satisfied: scipy in /home/usuario/anaconda3/envs/workflow-orchestration-env/lib/python3.9/site-packages (from mlflow->-r requirements.txt (line 1)) (1.8.1)\n",
      "Requirement already satisfied: entrypoints in /home/usuario/anaconda3/envs/workflow-orchestration-env/lib/python3.9/site-packages (from mlflow->-r requirements.txt (line 1)) (0.4)\n",
      "Requirement already satisfied: gitpython>=2.1.0 in /home/usuario/anaconda3/envs/workflow-orchestration-env/lib/python3.9/site-packages (from mlflow->-r requirements.txt (line 1)) (3.1.27)\n",
      "Requirement already satisfied: nbconvert in /home/usuario/anaconda3/envs/workflow-orchestration-env/lib/python3.9/site-packages (from jupyter->-r requirements.txt (line 2)) (6.5.0)\n",
      "Requirement already satisfied: ipywidgets in /home/usuario/anaconda3/envs/workflow-orchestration-env/lib/python3.9/site-packages (from jupyter->-r requirements.txt (line 2)) (7.7.0)\n",
      "Requirement already satisfied: qtconsole in /home/usuario/anaconda3/envs/workflow-orchestration-env/lib/python3.9/site-packages (from jupyter->-r requirements.txt (line 2)) (5.3.1)\n",
      "Requirement already satisfied: ipykernel in /home/usuario/anaconda3/envs/workflow-orchestration-env/lib/python3.9/site-packages (from jupyter->-r requirements.txt (line 2)) (6.14.0)\n",
      "Requirement already satisfied: notebook in /home/usuario/anaconda3/envs/workflow-orchestration-env/lib/python3.9/site-packages (from jupyter->-r requirements.txt (line 2)) (6.4.12)\n",
      "Requirement already satisfied: jupyter-console in /home/usuario/anaconda3/envs/workflow-orchestration-env/lib/python3.9/site-packages (from jupyter->-r requirements.txt (line 2)) (6.4.3)\n",
      "Requirement already satisfied: joblib>=1.0.0 in /home/usuario/anaconda3/envs/workflow-orchestration-env/lib/python3.9/site-packages (from scikit-learn->-r requirements.txt (line 3)) (1.1.0)\n"
     ]
    },
    {
     "name": "stdout",
     "output_type": "stream",
     "text": [
      "Requirement already satisfied: threadpoolctl>=2.0.0 in /home/usuario/anaconda3/envs/workflow-orchestration-env/lib/python3.9/site-packages (from scikit-learn->-r requirements.txt (line 3)) (3.1.0)\n",
      "Requirement already satisfied: python-dateutil>=2.8.1 in /home/usuario/anaconda3/envs/workflow-orchestration-env/lib/python3.9/site-packages (from pandas->-r requirements.txt (line 4)) (2.8.2)\n",
      "Requirement already satisfied: matplotlib>=2.2 in /home/usuario/anaconda3/envs/workflow-orchestration-env/lib/python3.9/site-packages (from seaborn->-r requirements.txt (line 5)) (3.5.2)\n",
      "Requirement already satisfied: six in /home/usuario/anaconda3/envs/workflow-orchestration-env/lib/python3.9/site-packages (from hyperopt->-r requirements.txt (line 6)) (1.16.0)\n",
      "Requirement already satisfied: networkx>=2.2 in /home/usuario/anaconda3/envs/workflow-orchestration-env/lib/python3.9/site-packages (from hyperopt->-r requirements.txt (line 6)) (2.8.4)\n",
      "Requirement already satisfied: py4j in /home/usuario/anaconda3/envs/workflow-orchestration-env/lib/python3.9/site-packages (from hyperopt->-r requirements.txt (line 6)) (0.10.9.5)\n",
      "Requirement already satisfied: tqdm in /home/usuario/anaconda3/envs/workflow-orchestration-env/lib/python3.9/site-packages (from hyperopt->-r requirements.txt (line 6)) (4.64.0)\n",
      "Requirement already satisfied: future in /home/usuario/anaconda3/envs/workflow-orchestration-env/lib/python3.9/site-packages (from hyperopt->-r requirements.txt (line 6)) (0.18.2)\n",
      "Requirement already satisfied: cramjam>=2.3.0 in /home/usuario/anaconda3/envs/workflow-orchestration-env/lib/python3.9/site-packages (from fastparquet->-r requirements.txt (line 8)) (2.5.0)\n",
      "Requirement already satisfied: Mako in /home/usuario/anaconda3/envs/workflow-orchestration-env/lib/python3.9/site-packages (from alembic>=1.7.5->prefect==2.0b5->-r requirements.txt (line 9)) (1.2.0)\n",
      "Requirement already satisfied: sniffio>=1.1 in /home/usuario/anaconda3/envs/workflow-orchestration-env/lib/python3.9/site-packages (from anyio>=3.4.0->prefect==2.0b5->-r requirements.txt (line 9)) (1.2.0)\n",
      "Requirement already satisfied: idna>=2.8 in /home/usuario/anaconda3/envs/workflow-orchestration-env/lib/python3.9/site-packages (from anyio>=3.4.0->prefect==2.0b5->-r requirements.txt (line 9)) (3.3)\n",
      "Requirement already satisfied: msrest>=0.6.21 in /home/usuario/anaconda3/envs/workflow-orchestration-env/lib/python3.9/site-packages (from azure-storage-blob>=12.9.0->prefect==2.0b5->-r requirements.txt (line 9)) (0.7.1)\n",
      "Requirement already satisfied: azure-core<2.0.0,>=1.23.1 in /home/usuario/anaconda3/envs/workflow-orchestration-env/lib/python3.9/site-packages (from azure-storage-blob>=12.9.0->prefect==2.0b5->-r requirements.txt (line 9)) (1.24.1)\n",
      "Requirement already satisfied: jmespath<2.0.0,>=0.7.1 in /home/usuario/anaconda3/envs/workflow-orchestration-env/lib/python3.9/site-packages (from boto3>=1.20.0->prefect==2.0b5->-r requirements.txt (line 9)) (1.0.0)\n",
      "Requirement already satisfied: botocore<1.28.0,>=1.27.9 in /home/usuario/anaconda3/envs/workflow-orchestration-env/lib/python3.9/site-packages (from boto3>=1.20.0->prefect==2.0b5->-r requirements.txt (line 9)) (1.27.9)\n",
      "Requirement already satisfied: s3transfer<0.7.0,>=0.6.0 in /home/usuario/anaconda3/envs/workflow-orchestration-env/lib/python3.9/site-packages (from boto3>=1.20.0->prefect==2.0b5->-r requirements.txt (line 9)) (0.6.0)\n",
      "Requirement already satisfied: urllib3<1.27,>=1.25.4 in /home/usuario/anaconda3/envs/workflow-orchestration-env/lib/python3.9/site-packages (from botocore<1.28.0,>=1.27.9->boto3>=1.20.0->prefect==2.0b5->-r requirements.txt (line 9)) (1.26.9)\n",
      "Requirement already satisfied: cffi>=1.12 in /home/usuario/anaconda3/envs/workflow-orchestration-env/lib/python3.9/site-packages (from cryptography>=36.0.1->prefect==2.0b5->-r requirements.txt (line 9)) (1.15.0)\n",
      "Requirement already satisfied: pycparser in /home/usuario/anaconda3/envs/workflow-orchestration-env/lib/python3.9/site-packages (from cffi>=1.12->cryptography>=36.0.1->prefect==2.0b5->-r requirements.txt (line 9)) (2.21)\n",
      "Requirement already satisfied: oauthlib>=3.1.0 in /home/usuario/anaconda3/envs/workflow-orchestration-env/lib/python3.9/site-packages (from databricks-cli>=0.8.7->mlflow->-r requirements.txt (line 1)) (3.2.0)\n",
      "Requirement already satisfied: pyjwt>=1.7.0 in /home/usuario/anaconda3/envs/workflow-orchestration-env/lib/python3.9/site-packages (from databricks-cli>=0.8.7->mlflow->-r requirements.txt (line 1)) (2.4.0)\n",
      "Requirement already satisfied: tabulate>=0.7.7 in /home/usuario/anaconda3/envs/workflow-orchestration-env/lib/python3.9/site-packages (from databricks-cli>=0.8.7->mlflow->-r requirements.txt (line 1)) (0.8.9)\n",
      "Requirement already satisfied: zict>=0.1.3 in /home/usuario/anaconda3/envs/workflow-orchestration-env/lib/python3.9/site-packages (from distributed>=2021.08.0->prefect==2.0b5->-r requirements.txt (line 9)) (2.2.0)\n",
      "Requirement already satisfied: psutil>=5.0 in /home/usuario/anaconda3/envs/workflow-orchestration-env/lib/python3.9/site-packages (from distributed>=2021.08.0->prefect==2.0b5->-r requirements.txt (line 9)) (5.9.1)\n",
      "Requirement already satisfied: jinja2 in /home/usuario/anaconda3/envs/workflow-orchestration-env/lib/python3.9/site-packages (from distributed>=2021.08.0->prefect==2.0b5->-r requirements.txt (line 9)) (3.1.2)\n",
      "Requirement already satisfied: tornado>=6.0.3 in /home/usuario/anaconda3/envs/workflow-orchestration-env/lib/python3.9/site-packages (from distributed>=2021.08.0->prefect==2.0b5->-r requirements.txt (line 9)) (6.1)\n",
      "Requirement already satisfied: tblib>=1.6.0 in /home/usuario/anaconda3/envs/workflow-orchestration-env/lib/python3.9/site-packages (from distributed>=2021.08.0->prefect==2.0b5->-r requirements.txt (line 9)) (1.7.0)\n",
      "Requirement already satisfied: locket>=1.0.0 in /home/usuario/anaconda3/envs/workflow-orchestration-env/lib/python3.9/site-packages (from distributed>=2021.08.0->prefect==2.0b5->-r requirements.txt (line 9)) (1.0.0)\n",
      "Requirement already satisfied: msgpack>=0.6.0 in /home/usuario/anaconda3/envs/workflow-orchestration-env/lib/python3.9/site-packages (from distributed>=2021.08.0->prefect==2.0b5->-r requirements.txt (line 9)) (1.0.4)\n",
      "Requirement already satisfied: sortedcontainers!=2.0.0,!=2.0.1 in /home/usuario/anaconda3/envs/workflow-orchestration-env/lib/python3.9/site-packages (from distributed>=2021.08.0->prefect==2.0b5->-r requirements.txt (line 9)) (2.4.0)\n",
      "Requirement already satisfied: dask==2022.6.0 in /home/usuario/anaconda3/envs/workflow-orchestration-env/lib/python3.9/site-packages (from distributed>=2021.08.0->prefect==2.0b5->-r requirements.txt (line 9)) (2022.6.0)\n",
      "Requirement already satisfied: toolz>=0.8.2 in /home/usuario/anaconda3/envs/workflow-orchestration-env/lib/python3.9/site-packages (from distributed>=2021.08.0->prefect==2.0b5->-r requirements.txt (line 9)) (0.11.2)\n",
      "Requirement already satisfied: partd>=0.3.10 in /home/usuario/anaconda3/envs/workflow-orchestration-env/lib/python3.9/site-packages (from dask==2022.6.0->distributed>=2021.08.0->prefect==2.0b5->-r requirements.txt (line 9)) (1.2.0)\n",
      "Requirement already satisfied: websocket-client>=0.32.0 in /home/usuario/anaconda3/envs/workflow-orchestration-env/lib/python3.9/site-packages (from docker>=4.0->prefect==2.0b5->-r requirements.txt (line 9)) (1.3.2)\n",
      "Requirement already satisfied: starlette==0.19.1 in /home/usuario/anaconda3/envs/workflow-orchestration-env/lib/python3.9/site-packages (from fastapi>=0.70->prefect==2.0b5->-r requirements.txt (line 9)) (0.19.1)\n",
      "Requirement already satisfied: gitdb<5,>=4.0.1 in /home/usuario/anaconda3/envs/workflow-orchestration-env/lib/python3.9/site-packages (from gitpython>=2.1.0->mlflow->-r requirements.txt (line 1)) (4.0.9)\n",
      "Requirement already satisfied: smmap<6,>=3.0.1 in /home/usuario/anaconda3/envs/workflow-orchestration-env/lib/python3.9/site-packages (from gitdb<5,>=4.0.1->gitpython>=2.1.0->mlflow->-r requirements.txt (line 1)) (5.0.0)\n",
      "Requirement already satisfied: google-api-core!=2.0.*,!=2.1.*,!=2.2.*,!=2.3.0,<3.0.0dev,>=1.31.5 in /home/usuario/anaconda3/envs/workflow-orchestration-env/lib/python3.9/site-packages (from google-cloud-storage>=2.1.0->prefect==2.0b5->-r requirements.txt (line 9)) (2.8.1)\n",
      "Requirement already satisfied: google-auth<3.0dev,>=1.25.0 in /home/usuario/anaconda3/envs/workflow-orchestration-env/lib/python3.9/site-packages (from google-cloud-storage>=2.1.0->prefect==2.0b5->-r requirements.txt (line 9)) (2.8.0)\n",
      "Requirement already satisfied: google-resumable-media>=2.3.2 in /home/usuario/anaconda3/envs/workflow-orchestration-env/lib/python3.9/site-packages (from google-cloud-storage>=2.1.0->prefect==2.0b5->-r requirements.txt (line 9)) (2.3.3)\n",
      "Requirement already satisfied: google-cloud-core<3.0dev,>=2.3.0 in /home/usuario/anaconda3/envs/workflow-orchestration-env/lib/python3.9/site-packages (from google-cloud-storage>=2.1.0->prefect==2.0b5->-r requirements.txt (line 9)) (2.3.1)\n",
      "Requirement already satisfied: googleapis-common-protos<2.0dev,>=1.56.2 in /home/usuario/anaconda3/envs/workflow-orchestration-env/lib/python3.9/site-packages (from google-api-core!=2.0.*,!=2.1.*,!=2.2.*,!=2.3.0,<3.0.0dev,>=1.31.5->google-cloud-storage>=2.1.0->prefect==2.0b5->-r requirements.txt (line 9)) (1.56.2)\n",
      "Requirement already satisfied: cachetools<6.0,>=2.0.0 in /home/usuario/anaconda3/envs/workflow-orchestration-env/lib/python3.9/site-packages (from google-auth<3.0dev,>=1.25.0->google-cloud-storage>=2.1.0->prefect==2.0b5->-r requirements.txt (line 9)) (5.2.0)\n",
      "Requirement already satisfied: pyasn1-modules>=0.2.1 in /home/usuario/anaconda3/envs/workflow-orchestration-env/lib/python3.9/site-packages (from google-auth<3.0dev,>=1.25.0->google-cloud-storage>=2.1.0->prefect==2.0b5->-r requirements.txt (line 9)) (0.2.8)\n",
      "Requirement already satisfied: rsa<5,>=3.1.4 in /home/usuario/anaconda3/envs/workflow-orchestration-env/lib/python3.9/site-packages (from google-auth<3.0dev,>=1.25.0->google-cloud-storage>=2.1.0->prefect==2.0b5->-r requirements.txt (line 9)) (4.8)\n"
     ]
    },
    {
     "name": "stdout",
     "output_type": "stream",
     "text": [
      "Requirement already satisfied: google-crc32c<2.0dev,>=1.0 in /home/usuario/anaconda3/envs/workflow-orchestration-env/lib/python3.9/site-packages (from google-resumable-media>=2.3.2->google-cloud-storage>=2.1.0->prefect==2.0b5->-r requirements.txt (line 9)) (1.3.0)\n",
      "Requirement already satisfied: rfc3986[idna2008]<2,>=1.3 in /home/usuario/anaconda3/envs/workflow-orchestration-env/lib/python3.9/site-packages (from httpx>=0.22->prefect==2.0b5->-r requirements.txt (line 9)) (1.5.0)\n",
      "Requirement already satisfied: httpcore<0.16.0,>=0.15.0 in /home/usuario/anaconda3/envs/workflow-orchestration-env/lib/python3.9/site-packages (from httpx>=0.22->prefect==2.0b5->-r requirements.txt (line 9)) (0.15.0)\n",
      "Requirement already satisfied: certifi in /home/usuario/anaconda3/envs/workflow-orchestration-env/lib/python3.9/site-packages (from httpx>=0.22->prefect==2.0b5->-r requirements.txt (line 9)) (2022.5.18.1)\n",
      "Requirement already satisfied: h11<0.13,>=0.11 in /home/usuario/anaconda3/envs/workflow-orchestration-env/lib/python3.9/site-packages (from httpcore<0.16.0,>=0.15.0->httpx>=0.22->prefect==2.0b5->-r requirements.txt (line 9)) (0.12.0)\n",
      "Requirement already satisfied: zipp>=0.5 in /home/usuario/anaconda3/envs/workflow-orchestration-env/lib/python3.9/site-packages (from importlib-metadata!=4.7.0,>=3.7.0->mlflow->-r requirements.txt (line 1)) (3.8.0)\n",
      "Requirement already satisfied: requests-oauthlib in /home/usuario/anaconda3/envs/workflow-orchestration-env/lib/python3.9/site-packages (from kubernetes>=17.17.0->prefect==2.0b5->-r requirements.txt (line 9)) (1.3.1)\n",
      "Requirement already satisfied: setuptools>=21.0.0 in /home/usuario/anaconda3/envs/workflow-orchestration-env/lib/python3.9/site-packages (from kubernetes>=17.17.0->prefect==2.0b5->-r requirements.txt (line 9)) (61.2.0)\n",
      "Requirement already satisfied: kiwisolver>=1.0.1 in /home/usuario/anaconda3/envs/workflow-orchestration-env/lib/python3.9/site-packages (from matplotlib>=2.2->seaborn->-r requirements.txt (line 5)) (1.4.3)\n",
      "Requirement already satisfied: cycler>=0.10 in /home/usuario/anaconda3/envs/workflow-orchestration-env/lib/python3.9/site-packages (from matplotlib>=2.2->seaborn->-r requirements.txt (line 5)) (0.11.0)\n",
      "Requirement already satisfied: pyparsing>=2.2.1 in /home/usuario/anaconda3/envs/workflow-orchestration-env/lib/python3.9/site-packages (from matplotlib>=2.2->seaborn->-r requirements.txt (line 5)) (3.0.9)\n",
      "Requirement already satisfied: fonttools>=4.22.0 in /home/usuario/anaconda3/envs/workflow-orchestration-env/lib/python3.9/site-packages (from matplotlib>=2.2->seaborn->-r requirements.txt (line 5)) (4.33.3)\n",
      "Requirement already satisfied: pillow>=6.2.0 in /home/usuario/anaconda3/envs/workflow-orchestration-env/lib/python3.9/site-packages (from matplotlib>=2.2->seaborn->-r requirements.txt (line 5)) (9.1.1)\n",
      "Requirement already satisfied: isodate>=0.6.0 in /home/usuario/anaconda3/envs/workflow-orchestration-env/lib/python3.9/site-packages (from msrest>=0.6.21->azure-storage-blob>=12.9.0->prefect==2.0b5->-r requirements.txt (line 9)) (0.6.1)\n",
      "Requirement already satisfied: pytzdata>=2020.1 in /home/usuario/anaconda3/envs/workflow-orchestration-env/lib/python3.9/site-packages (from pendulum>=2.1.2->prefect==2.0b5->-r requirements.txt (line 9)) (2020.1)\n",
      "Requirement already satisfied: pyasn1<0.5.0,>=0.4.6 in /home/usuario/anaconda3/envs/workflow-orchestration-env/lib/python3.9/site-packages (from pyasn1-modules>=0.2.1->google-auth<3.0dev,>=1.25.0->google-cloud-storage>=2.1.0->prefect==2.0b5->-r requirements.txt (line 9)) (0.4.8)\n",
      "Requirement already satisfied: text-unidecode>=1.3 in /home/usuario/anaconda3/envs/workflow-orchestration-env/lib/python3.9/site-packages (from python-slugify>=5.0->prefect==2.0b5->-r requirements.txt (line 9)) (1.3)\n",
      "Requirement already satisfied: frozenlist in /home/usuario/anaconda3/envs/workflow-orchestration-env/lib/python3.9/site-packages (from ray[default]>=1.9->prefect==2.0b5->-r requirements.txt (line 9)) (1.3.0)\n",
      "Requirement already satisfied: virtualenv in /home/usuario/anaconda3/envs/workflow-orchestration-env/lib/python3.9/site-packages (from ray[default]>=1.9->prefect==2.0b5->-r requirements.txt (line 9)) (20.14.1)\n",
      "Requirement already satisfied: attrs in /home/usuario/anaconda3/envs/workflow-orchestration-env/lib/python3.9/site-packages (from ray[default]>=1.9->prefect==2.0b5->-r requirements.txt (line 9)) (21.4.0)\n",
      "Requirement already satisfied: jsonschema in /home/usuario/anaconda3/envs/workflow-orchestration-env/lib/python3.9/site-packages (from ray[default]>=1.9->prefect==2.0b5->-r requirements.txt (line 9)) (4.6.0)\n",
      "Requirement already satisfied: filelock in /home/usuario/anaconda3/envs/workflow-orchestration-env/lib/python3.9/site-packages (from ray[default]>=1.9->prefect==2.0b5->-r requirements.txt (line 9)) (3.7.1)\n",
      "Requirement already satisfied: aiosignal in /home/usuario/anaconda3/envs/workflow-orchestration-env/lib/python3.9/site-packages (from ray[default]>=1.9->prefect==2.0b5->-r requirements.txt (line 9)) (1.2.0)\n",
      "Requirement already satisfied: grpcio<=1.43.0,>=1.28.1 in /home/usuario/anaconda3/envs/workflow-orchestration-env/lib/python3.9/site-packages (from ray[default]>=1.9->prefect==2.0b5->-r requirements.txt (line 9)) (1.43.0)\n",
      "Requirement already satisfied: gpustat>=1.0.0b1 in /home/usuario/anaconda3/envs/workflow-orchestration-env/lib/python3.9/site-packages (from ray[default]>=1.9->prefect==2.0b5->-r requirements.txt (line 9)) (1.0.0b1)\n",
      "Requirement already satisfied: aiohttp-cors in /home/usuario/anaconda3/envs/workflow-orchestration-env/lib/python3.9/site-packages (from ray[default]>=1.9->prefect==2.0b5->-r requirements.txt (line 9)) (0.7.0)\n",
      "Requirement already satisfied: smart-open in /home/usuario/anaconda3/envs/workflow-orchestration-env/lib/python3.9/site-packages (from ray[default]>=1.9->prefect==2.0b5->-r requirements.txt (line 9)) (6.0.0)\n",
      "Requirement already satisfied: prometheus-client<0.14.0,>=0.7.1 in /home/usuario/anaconda3/envs/workflow-orchestration-env/lib/python3.9/site-packages (from ray[default]>=1.9->prefect==2.0b5->-r requirements.txt (line 9)) (0.13.1)\n",
      "Requirement already satisfied: aiohttp>=3.7 in /home/usuario/anaconda3/envs/workflow-orchestration-env/lib/python3.9/site-packages (from ray[default]>=1.9->prefect==2.0b5->-r requirements.txt (line 9)) (3.8.1)\n",
      "Requirement already satisfied: opencensus in /home/usuario/anaconda3/envs/workflow-orchestration-env/lib/python3.9/site-packages (from ray[default]>=1.9->prefect==2.0b5->-r requirements.txt (line 9)) (0.9.0)\n",
      "Requirement already satisfied: colorful in /home/usuario/anaconda3/envs/workflow-orchestration-env/lib/python3.9/site-packages (from ray[default]>=1.9->prefect==2.0b5->-r requirements.txt (line 9)) (0.5.4)\n",
      "Requirement already satisfied: py-spy>=0.2.0 in /home/usuario/anaconda3/envs/workflow-orchestration-env/lib/python3.9/site-packages (from ray[default]>=1.9->prefect==2.0b5->-r requirements.txt (line 9)) (0.3.12)\n",
      "Requirement already satisfied: charset-normalizer<3.0,>=2.0 in /home/usuario/anaconda3/envs/workflow-orchestration-env/lib/python3.9/site-packages (from aiohttp>=3.7->ray[default]>=1.9->prefect==2.0b5->-r requirements.txt (line 9)) (2.0.12)\n",
      "Requirement already satisfied: async-timeout<5.0,>=4.0.0a3 in /home/usuario/anaconda3/envs/workflow-orchestration-env/lib/python3.9/site-packages (from aiohttp>=3.7->ray[default]>=1.9->prefect==2.0b5->-r requirements.txt (line 9)) (4.0.2)\n",
      "Requirement already satisfied: multidict<7.0,>=4.5 in /home/usuario/anaconda3/envs/workflow-orchestration-env/lib/python3.9/site-packages (from aiohttp>=3.7->ray[default]>=1.9->prefect==2.0b5->-r requirements.txt (line 9)) (6.0.2)\n",
      "Requirement already satisfied: yarl<2.0,>=1.0 in /home/usuario/anaconda3/envs/workflow-orchestration-env/lib/python3.9/site-packages (from aiohttp>=3.7->ray[default]>=1.9->prefect==2.0b5->-r requirements.txt (line 9)) (1.7.2)\n",
      "Requirement already satisfied: nvidia-ml-py3>=7.352.0 in /home/usuario/anaconda3/envs/workflow-orchestration-env/lib/python3.9/site-packages (from gpustat>=1.0.0b1->ray[default]>=1.9->prefect==2.0b5->-r requirements.txt (line 9)) (7.352.0)\n",
      "Requirement already satisfied: blessed>=1.17.1 in /home/usuario/anaconda3/envs/workflow-orchestration-env/lib/python3.9/site-packages (from gpustat>=1.0.0b1->ray[default]>=1.9->prefect==2.0b5->-r requirements.txt (line 9)) (1.19.1)\n",
      "Requirement already satisfied: wcwidth>=0.1.4 in /home/usuario/anaconda3/envs/workflow-orchestration-env/lib/python3.9/site-packages (from blessed>=1.17.1->gpustat>=1.0.0b1->ray[default]>=1.9->prefect==2.0b5->-r requirements.txt (line 9)) (0.2.5)\n"
     ]
    },
    {
     "name": "stdout",
     "output_type": "stream",
     "text": [
      "Requirement already satisfied: pygments<3.0.0,>=2.6.0 in /home/usuario/anaconda3/envs/workflow-orchestration-env/lib/python3.9/site-packages (from rich>=10.0->prefect==2.0b5->-r requirements.txt (line 9)) (2.12.0)\n",
      "Requirement already satisfied: commonmark<0.10.0,>=0.9.0 in /home/usuario/anaconda3/envs/workflow-orchestration-env/lib/python3.9/site-packages (from rich>=10.0->prefect==2.0b5->-r requirements.txt (line 9)) (0.9.1)\n",
      "Requirement already satisfied: greenlet!=0.4.17 in /home/usuario/anaconda3/envs/workflow-orchestration-env/lib/python3.9/site-packages (from sqlalchemy[asyncio]!=1.4.33,>=1.4.20->prefect==2.0b5->-r requirements.txt (line 9)) (1.1.2)\n",
      "Requirement already satisfied: asgiref>=3.4.0 in /home/usuario/anaconda3/envs/workflow-orchestration-env/lib/python3.9/site-packages (from uvicorn>=0.14.0->prefect==2.0b5->-r requirements.txt (line 9)) (3.5.2)\n",
      "Requirement already satisfied: heapdict in /home/usuario/anaconda3/envs/workflow-orchestration-env/lib/python3.9/site-packages (from zict>=0.1.3->distributed>=2021.08.0->prefect==2.0b5->-r requirements.txt (line 9)) (1.0.1)\n",
      "Requirement already satisfied: Werkzeug>=2.0 in /home/usuario/anaconda3/envs/workflow-orchestration-env/lib/python3.9/site-packages (from Flask->mlflow->-r requirements.txt (line 1)) (2.1.2)\n",
      "Requirement already satisfied: itsdangerous>=2.0 in /home/usuario/anaconda3/envs/workflow-orchestration-env/lib/python3.9/site-packages (from Flask->mlflow->-r requirements.txt (line 1)) (2.1.2)\n",
      "Requirement already satisfied: MarkupSafe>=2.0 in /home/usuario/anaconda3/envs/workflow-orchestration-env/lib/python3.9/site-packages (from jinja2->distributed>=2021.08.0->prefect==2.0b5->-r requirements.txt (line 9)) (2.1.1)\n",
      "Requirement already satisfied: debugpy>=1.0 in /home/usuario/anaconda3/envs/workflow-orchestration-env/lib/python3.9/site-packages (from ipykernel->jupyter->-r requirements.txt (line 2)) (1.6.0)\n",
      "Requirement already satisfied: nest-asyncio in /home/usuario/anaconda3/envs/workflow-orchestration-env/lib/python3.9/site-packages (from ipykernel->jupyter->-r requirements.txt (line 2)) (1.5.5)\n",
      "Requirement already satisfied: traitlets>=5.1.0 in /home/usuario/anaconda3/envs/workflow-orchestration-env/lib/python3.9/site-packages (from ipykernel->jupyter->-r requirements.txt (line 2)) (5.2.2.post1)\n",
      "Requirement already satisfied: jupyter-client>=6.1.12 in /home/usuario/anaconda3/envs/workflow-orchestration-env/lib/python3.9/site-packages (from ipykernel->jupyter->-r requirements.txt (line 2)) (7.3.4)\n",
      "Requirement already satisfied: ipython>=7.23.1 in /home/usuario/anaconda3/envs/workflow-orchestration-env/lib/python3.9/site-packages (from ipykernel->jupyter->-r requirements.txt (line 2)) (8.4.0)\n",
      "Requirement already satisfied: matplotlib-inline>=0.1 in /home/usuario/anaconda3/envs/workflow-orchestration-env/lib/python3.9/site-packages (from ipykernel->jupyter->-r requirements.txt (line 2)) (0.1.3)\n",
      "Requirement already satisfied: prompt-toolkit!=3.0.0,!=3.0.1,<3.1.0,>=2.0.0 in /home/usuario/anaconda3/envs/workflow-orchestration-env/lib/python3.9/site-packages (from ipython>=7.23.1->ipykernel->jupyter->-r requirements.txt (line 2)) (3.0.29)\n",
      "Requirement already satisfied: pickleshare in /home/usuario/anaconda3/envs/workflow-orchestration-env/lib/python3.9/site-packages (from ipython>=7.23.1->ipykernel->jupyter->-r requirements.txt (line 2)) (0.7.5)\n",
      "Requirement already satisfied: jedi>=0.16 in /home/usuario/anaconda3/envs/workflow-orchestration-env/lib/python3.9/site-packages (from ipython>=7.23.1->ipykernel->jupyter->-r requirements.txt (line 2)) (0.18.1)\n",
      "Requirement already satisfied: decorator in /home/usuario/anaconda3/envs/workflow-orchestration-env/lib/python3.9/site-packages (from ipython>=7.23.1->ipykernel->jupyter->-r requirements.txt (line 2)) (5.1.1)\n",
      "Requirement already satisfied: backcall in /home/usuario/anaconda3/envs/workflow-orchestration-env/lib/python3.9/site-packages (from ipython>=7.23.1->ipykernel->jupyter->-r requirements.txt (line 2)) (0.2.0)\n",
      "Requirement already satisfied: stack-data in /home/usuario/anaconda3/envs/workflow-orchestration-env/lib/python3.9/site-packages (from ipython>=7.23.1->ipykernel->jupyter->-r requirements.txt (line 2)) (0.2.0)\n",
      "Requirement already satisfied: pexpect>4.3 in /home/usuario/anaconda3/envs/workflow-orchestration-env/lib/python3.9/site-packages (from ipython>=7.23.1->ipykernel->jupyter->-r requirements.txt (line 2)) (4.8.0)\n",
      "Requirement already satisfied: parso<0.9.0,>=0.8.0 in /home/usuario/anaconda3/envs/workflow-orchestration-env/lib/python3.9/site-packages (from jedi>=0.16->ipython>=7.23.1->ipykernel->jupyter->-r requirements.txt (line 2)) (0.8.3)\n",
      "Requirement already satisfied: pyzmq>=23.0 in /home/usuario/anaconda3/envs/workflow-orchestration-env/lib/python3.9/site-packages (from jupyter-client>=6.1.12->ipykernel->jupyter->-r requirements.txt (line 2)) (23.1.0)\n",
      "Requirement already satisfied: jupyter-core>=4.9.2 in /home/usuario/anaconda3/envs/workflow-orchestration-env/lib/python3.9/site-packages (from jupyter-client>=6.1.12->ipykernel->jupyter->-r requirements.txt (line 2)) (4.10.0)\n",
      "Requirement already satisfied: ptyprocess>=0.5 in /home/usuario/anaconda3/envs/workflow-orchestration-env/lib/python3.9/site-packages (from pexpect>4.3->ipython>=7.23.1->ipykernel->jupyter->-r requirements.txt (line 2)) (0.7.0)\n",
      "Requirement already satisfied: jupyterlab-widgets>=1.0.0 in /home/usuario/anaconda3/envs/workflow-orchestration-env/lib/python3.9/site-packages (from ipywidgets->jupyter->-r requirements.txt (line 2)) (1.1.0)\n",
      "Requirement already satisfied: widgetsnbextension~=3.6.0 in /home/usuario/anaconda3/envs/workflow-orchestration-env/lib/python3.9/site-packages (from ipywidgets->jupyter->-r requirements.txt (line 2)) (3.6.0)\n",
      "Requirement already satisfied: nbformat>=4.2.0 in /home/usuario/anaconda3/envs/workflow-orchestration-env/lib/python3.9/site-packages (from ipywidgets->jupyter->-r requirements.txt (line 2)) (5.4.0)\n",
      "Requirement already satisfied: ipython-genutils~=0.2.0 in /home/usuario/anaconda3/envs/workflow-orchestration-env/lib/python3.9/site-packages (from ipywidgets->jupyter->-r requirements.txt (line 2)) (0.2.0)\n",
      "Requirement already satisfied: fastjsonschema in /home/usuario/anaconda3/envs/workflow-orchestration-env/lib/python3.9/site-packages (from nbformat>=4.2.0->ipywidgets->jupyter->-r requirements.txt (line 2)) (2.15.3)\n",
      "Requirement already satisfied: pyrsistent!=0.17.0,!=0.17.1,!=0.17.2,>=0.14.0 in /home/usuario/anaconda3/envs/workflow-orchestration-env/lib/python3.9/site-packages (from jsonschema->ray[default]>=1.9->prefect==2.0b5->-r requirements.txt (line 9)) (0.18.1)\n",
      "Requirement already satisfied: terminado>=0.8.3 in /home/usuario/anaconda3/envs/workflow-orchestration-env/lib/python3.9/site-packages (from notebook->jupyter->-r requirements.txt (line 2)) (0.15.0)\n",
      "Requirement already satisfied: Send2Trash>=1.8.0 in /home/usuario/anaconda3/envs/workflow-orchestration-env/lib/python3.9/site-packages (from notebook->jupyter->-r requirements.txt (line 2)) (1.8.0)\n",
      "Requirement already satisfied: argon2-cffi in /home/usuario/anaconda3/envs/workflow-orchestration-env/lib/python3.9/site-packages (from notebook->jupyter->-r requirements.txt (line 2)) (21.3.0)\n",
      "Requirement already satisfied: pandocfilters>=1.4.1 in /home/usuario/anaconda3/envs/workflow-orchestration-env/lib/python3.9/site-packages (from nbconvert->jupyter->-r requirements.txt (line 2)) (1.5.0)\n",
      "Requirement already satisfied: jupyterlab-pygments in /home/usuario/anaconda3/envs/workflow-orchestration-env/lib/python3.9/site-packages (from nbconvert->jupyter->-r requirements.txt (line 2)) (0.2.2)\n",
      "Requirement already satisfied: mistune<2,>=0.8.1 in /home/usuario/anaconda3/envs/workflow-orchestration-env/lib/python3.9/site-packages (from nbconvert->jupyter->-r requirements.txt (line 2)) (0.8.4)\n",
      "Requirement already satisfied: defusedxml in /home/usuario/anaconda3/envs/workflow-orchestration-env/lib/python3.9/site-packages (from nbconvert->jupyter->-r requirements.txt (line 2)) (0.7.1)\n",
      "Requirement already satisfied: nbclient>=0.5.0 in /home/usuario/anaconda3/envs/workflow-orchestration-env/lib/python3.9/site-packages (from nbconvert->jupyter->-r requirements.txt (line 2)) (0.6.4)\n",
      "Requirement already satisfied: tinycss2 in /home/usuario/anaconda3/envs/workflow-orchestration-env/lib/python3.9/site-packages (from nbconvert->jupyter->-r requirements.txt (line 2)) (1.1.1)\n",
      "Requirement already satisfied: bleach in /home/usuario/anaconda3/envs/workflow-orchestration-env/lib/python3.9/site-packages (from nbconvert->jupyter->-r requirements.txt (line 2)) (5.0.0)\n",
      "Requirement already satisfied: beautifulsoup4 in /home/usuario/anaconda3/envs/workflow-orchestration-env/lib/python3.9/site-packages (from nbconvert->jupyter->-r requirements.txt (line 2)) (4.11.1)\n"
     ]
    },
    {
     "name": "stdout",
     "output_type": "stream",
     "text": [
      "Requirement already satisfied: argon2-cffi-bindings in /home/usuario/anaconda3/envs/workflow-orchestration-env/lib/python3.9/site-packages (from argon2-cffi->notebook->jupyter->-r requirements.txt (line 2)) (21.2.0)\n",
      "Requirement already satisfied: soupsieve>1.2 in /home/usuario/anaconda3/envs/workflow-orchestration-env/lib/python3.9/site-packages (from beautifulsoup4->nbconvert->jupyter->-r requirements.txt (line 2)) (2.3.2.post1)\n",
      "Requirement already satisfied: webencodings in /home/usuario/anaconda3/envs/workflow-orchestration-env/lib/python3.9/site-packages (from bleach->nbconvert->jupyter->-r requirements.txt (line 2)) (0.5.1)\n",
      "Requirement already satisfied: opencensus-context>=0.1.2 in /home/usuario/anaconda3/envs/workflow-orchestration-env/lib/python3.9/site-packages (from opencensus->ray[default]>=1.9->prefect==2.0b5->-r requirements.txt (line 9)) (0.1.2)\n",
      "Requirement already satisfied: qtpy>=2.0.1 in /home/usuario/anaconda3/envs/workflow-orchestration-env/lib/python3.9/site-packages (from qtconsole->jupyter->-r requirements.txt (line 2)) (2.1.0)\n",
      "Requirement already satisfied: asttokens in /home/usuario/anaconda3/envs/workflow-orchestration-env/lib/python3.9/site-packages (from stack-data->ipython>=7.23.1->ipykernel->jupyter->-r requirements.txt (line 2)) (2.0.5)\n",
      "Requirement already satisfied: pure-eval in /home/usuario/anaconda3/envs/workflow-orchestration-env/lib/python3.9/site-packages (from stack-data->ipython>=7.23.1->ipykernel->jupyter->-r requirements.txt (line 2)) (0.2.2)\n",
      "Requirement already satisfied: executing in /home/usuario/anaconda3/envs/workflow-orchestration-env/lib/python3.9/site-packages (from stack-data->ipython>=7.23.1->ipykernel->jupyter->-r requirements.txt (line 2)) (0.8.3)\n",
      "Requirement already satisfied: distlib<1,>=0.3.1 in /home/usuario/anaconda3/envs/workflow-orchestration-env/lib/python3.9/site-packages (from virtualenv->ray[default]>=1.9->prefect==2.0b5->-r requirements.txt (line 9)) (0.3.4)\n",
      "Requirement already satisfied: platformdirs<3,>=2 in /home/usuario/anaconda3/envs/workflow-orchestration-env/lib/python3.9/site-packages (from virtualenv->ray[default]>=1.9->prefect==2.0b5->-r requirements.txt (line 9)) (2.5.2)\n"
     ]
    }
   ],
   "source": [
    "!pip install -r requirements.txt"
   ]
  },
  {
   "cell_type": "code",
   "execution_count": 17,
   "id": "d1d7a3f1",
   "metadata": {},
   "outputs": [
    {
     "name": "stdout",
     "output_type": "stream",
     "text": [
      "11:11:43.962 | INFO    | prefect.engine - Created flow run 'attentive-chihuahua' for flow 'main'\n",
      "11:11:43.962 | INFO    | Flow run 'attentive-chihuahua' - Using task runner 'SequentialTaskRunner'\n",
      "11:11:43.974 | WARNING | Flow run 'attentive-chihuahua' - No default storage is configured on the server. Results from this flow run will be stored in a temporary directory in its runtime environment.\n",
      "11:11:44.018 | INFO    | Flow run 'attentive-chihuahua' - Created task run 'read_data-4c7f9de4-0' for task 'read_data'\n",
      "11:11:48.757 | INFO    | Task run 'read_data-4c7f9de4-0' - Finished in state Completed()\n",
      "11:11:48.790 | INFO    | Flow run 'attentive-chihuahua' - Created task run 'prepare_features-4ee39d9f-0' for task 'prepare_features'\n",
      "11:11:49.048 | INFO    | Task run 'prepare_features-4ee39d9f-0' - The mean duration of training is 16.2472533682457\n",
      "11:11:55.357 | INFO    | Task run 'prepare_features-4ee39d9f-0' - Finished in state Completed()\n",
      "11:11:55.392 | INFO    | Flow run 'attentive-chihuahua' - Created task run 'read_data-4c7f9de4-1' for task 'read_data'\n",
      "11:11:59.337 | INFO    | Task run 'read_data-4c7f9de4-1' - Finished in state Completed()\n",
      "11:11:59.370 | INFO    | Flow run 'attentive-chihuahua' - Created task run 'prepare_features-4ee39d9f-1' for task 'prepare_features'\n",
      "11:11:59.598 | INFO    | Task run 'prepare_features-4ee39d9f-1' - The mean duration of validation is 16.859265811074096\n",
      "11:12:05.092 | INFO    | Task run 'prepare_features-4ee39d9f-1' - Finished in state Completed()\n",
      "11:12:05.124 | INFO    | Flow run 'attentive-chihuahua' - Created task run 'train_model-7c866860-0' for task 'train_model'\n",
      "11:12:08.146 | INFO    | Task run 'train_model-7c866860-0' - The shape of X_train is (1109826, 525)\n",
      "11:12:08.146 | INFO    | Task run 'train_model-7c866860-0' - The DictVectorizer has 525 features\n",
      "11:12:12.679 | INFO    | Task run 'train_model-7c866860-0' - The MSE of training is: 10.528519430543215\n",
      "11:12:12.792 | INFO    | Task run 'train_model-7c866860-0' - Finished in state Completed()\n",
      "11:12:12.813 | INFO    | Flow run 'attentive-chihuahua' - Created task run 'run_model-6559300c-0' for task 'run_model'\n",
      "11:12:15.415 | INFO    | Task run 'run_model-6559300c-0' - The MSE of validation is: 11.014285988631661\n",
      "11:12:15.497 | INFO    | Task run 'run_model-6559300c-0' - Finished in state Completed()\n",
      "11:12:21.361 | INFO    | Flow run 'attentive-chihuahua' - Finished in state Completed('All states completed.')\n"
     ]
    }
   ],
   "source": [
    "# Checking the execution of homework.py\n",
    "!python homework.py"
   ]
  },
  {
   "cell_type": "code",
   "execution_count": 18,
   "id": "bb7aaeea",
   "metadata": {},
   "outputs": [],
   "source": [
    "# Question 1: After adding all of the decorators, there is actually one task that you will need to call .result() for inside the flow to get it to work. Which task is this?\n",
    "\n",
    "# train_model"
   ]
  },
  {
   "cell_type": "code",
   "execution_count": 21,
   "id": "ccbb9f54",
   "metadata": {},
   "outputs": [],
   "source": [
    "# Testing the script with main(date=\"2021-03-15\")"
   ]
  },
  {
   "cell_type": "code",
   "execution_count": 24,
   "id": "69c9310f",
   "metadata": {},
   "outputs": [
    {
     "name": "stdout",
     "output_type": "stream",
     "text": [
      "11:54:58.586 | INFO    | prefect.engine - Created flow run 'dainty-beaver' for flow 'main'\n",
      "11:54:58.586 | INFO    | Flow run 'dainty-beaver' - Using task runner 'SequentialTaskRunner'\n",
      "11:54:58.597 | WARNING | Flow run 'dainty-beaver' - No default storage is configured on the server. Results from this flow run will be stored in a temporary directory in its runtime environment.\n",
      "11:54:58.640 | INFO    | Flow run 'dainty-beaver' - Created task run 'get_paths-6e696e34-0' for task 'get_paths'\n",
      "11:54:58.683 | INFO    | Task run 'get_paths-6e696e34-0' - Finished in state Completed()\n",
      "11:54:58.704 | INFO    | Flow run 'dainty-beaver' - Created task run 'read_data-4c7f9de4-0' for task 'read_data'\n",
      "11:55:03.500 | INFO    | Task run 'read_data-4c7f9de4-0' - Finished in state Completed()\n",
      "11:55:03.533 | INFO    | Flow run 'dainty-beaver' - Created task run 'prepare_features-4ee39d9f-0' for task 'prepare_features'\n",
      "11:55:03.798 | INFO    | Task run 'prepare_features-4ee39d9f-0' - The mean duration of training is 16.2472533682457\n",
      "11:55:10.237 | INFO    | Task run 'prepare_features-4ee39d9f-0' - Finished in state Completed()\n",
      "11:55:10.271 | INFO    | Flow run 'dainty-beaver' - Created task run 'read_data-4c7f9de4-1' for task 'read_data'\n",
      "11:55:14.264 | INFO    | Task run 'read_data-4c7f9de4-1' - Finished in state Completed()\n",
      "11:55:14.298 | INFO    | Flow run 'dainty-beaver' - Created task run 'prepare_features-4ee39d9f-1' for task 'prepare_features'\n",
      "11:55:14.522 | INFO    | Task run 'prepare_features-4ee39d9f-1' - The mean duration of validation is 16.859265811074096\n",
      "11:55:20.195 | INFO    | Task run 'prepare_features-4ee39d9f-1' - Finished in state Completed()\n",
      "11:55:20.230 | INFO    | Flow run 'dainty-beaver' - Created task run 'train_model-7c866860-0' for task 'train_model'\n",
      "11:55:23.215 | INFO    | Task run 'train_model-7c866860-0' - The shape of X_train is (1109826, 525)\n",
      "11:55:23.215 | INFO    | Task run 'train_model-7c866860-0' - The DictVectorizer has 525 features\n",
      "11:55:27.481 | INFO    | Task run 'train_model-7c866860-0' - The MSE of training is: 10.528519430543215\n",
      "11:55:27.602 | INFO    | Task run 'train_model-7c866860-0' - Finished in state Completed()\n",
      "11:55:27.621 | INFO    | Flow run 'dainty-beaver' - Created task run 'run_model-6559300c-0' for task 'run_model'\n",
      "11:55:30.250 | INFO    | Task run 'run_model-6559300c-0' - The MSE of validation is: 11.014285988631661\n",
      "11:55:30.333 | INFO    | Task run 'run_model-6559300c-0' - Finished in state Completed()\n",
      "11:55:36.208 | INFO    | Flow run 'dainty-beaver' - Finished in state Completed('All states completed.')\n"
     ]
    }
   ],
   "source": [
    "!python homework.py"
   ]
  },
  {
   "cell_type": "code",
   "execution_count": null,
   "id": "071fd2ff",
   "metadata": {},
   "outputs": [],
   "source": [
    "# Get the files neeeded for Question 2"
   ]
  },
  {
   "cell_type": "code",
   "execution_count": 19,
   "id": "e42c92ff",
   "metadata": {},
   "outputs": [
    {
     "name": "stdout",
     "output_type": "stream",
     "text": [
      "--2022-06-15 11:42:52--  https://nyc-tlc.s3.amazonaws.com/trip+data/fhv_tripdata_2021-06.parquet\n",
      "Resolving nyc-tlc.s3.amazonaws.com (nyc-tlc.s3.amazonaws.com)... 52.217.234.1\n",
      "Connecting to nyc-tlc.s3.amazonaws.com (nyc-tlc.s3.amazonaws.com)|52.217.234.1|:443... connected.\n",
      "HTTP request sent, awaiting response... 200 OK\n",
      "Length: 13208079 (13M) [binary/octet-stream]\n",
      "Saving to: ‘./data/fhv_tripdata_2021-06.parquet’\n",
      "\n",
      "fhv_tripdata_2021-0 100%[===================>]  12.60M  8.19MB/s    in 1.5s    \n",
      "\n",
      "2022-06-15 11:42:54 (8.19 MB/s) - ‘./data/fhv_tripdata_2021-06.parquet’ saved [13208079/13208079]\n",
      "\n"
     ]
    }
   ],
   "source": [
    "!wget https://nyc-tlc.s3.amazonaws.com/trip+data/fhv_tripdata_2021-06.parquet -P ./data"
   ]
  },
  {
   "cell_type": "code",
   "execution_count": 20,
   "id": "c30ac36e",
   "metadata": {},
   "outputs": [
    {
     "name": "stdout",
     "output_type": "stream",
     "text": [
      "--2022-06-15 11:42:58--  https://nyc-tlc.s3.amazonaws.com/trip+data/fhv_tripdata_2021-07.parquet\n",
      "Resolving nyc-tlc.s3.amazonaws.com (nyc-tlc.s3.amazonaws.com)... 54.231.161.145\n",
      "Connecting to nyc-tlc.s3.amazonaws.com (nyc-tlc.s3.amazonaws.com)|54.231.161.145|:443... connected.\n",
      "HTTP request sent, awaiting response... 200 OK\n",
      "Length: 12650862 (12M) [binary/octet-stream]\n",
      "Saving to: ‘./data/fhv_tripdata_2021-07.parquet’\n",
      "\n",
      "fhv_tripdata_2021-0 100%[===================>]  12.06M  6.21MB/s    in 1.9s    \n",
      "\n",
      "2022-06-15 11:43:01 (6.21 MB/s) - ‘./data/fhv_tripdata_2021-07.parquet’ saved [12650862/12650862]\n",
      "\n"
     ]
    }
   ],
   "source": [
    "!wget https://nyc-tlc.s3.amazonaws.com/trip+data/fhv_tripdata_2021-07.parquet -P ./data"
   ]
  },
  {
   "cell_type": "code",
   "execution_count": null,
   "id": "e48e2a6c",
   "metadata": {},
   "outputs": [],
   "source": [
    "!python homework.py"
   ]
  }
 ],
 "metadata": {
  "kernelspec": {
   "display_name": "Python 3 (ipykernel)",
   "language": "python",
   "name": "python3"
  },
  "language_info": {
   "codemirror_mode": {
    "name": "ipython",
    "version": 3
   },
   "file_extension": ".py",
   "mimetype": "text/x-python",
   "name": "python",
   "nbconvert_exporter": "python",
   "pygments_lexer": "ipython3",
   "version": "3.9.12"
  }
 },
 "nbformat": 4,
 "nbformat_minor": 5
}
