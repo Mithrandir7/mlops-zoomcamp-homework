{
 "cells": [
  {
   "cell_type": "code",
   "execution_count": 1,
   "id": "77450031",
   "metadata": {},
   "outputs": [
    {
     "name": "stdout",
     "output_type": "stream",
     "text": [
      "The mean duration of training is 16.247253368247375\n",
      "The mean duration of validation is 16.859265811074575\n",
      "The shape of X_train is (1109826, 525)\n",
      "The DictVectorizer has 525 features\n",
      "The MSE of training is: 10.528519107206037\n",
      "The MSE of validation is: 11.014283142755671\n"
     ]
    }
   ],
   "source": [
    "!python homework.py"
   ]
  },
  {
   "cell_type": "code",
   "execution_count": null,
   "id": "d1d7a3f1",
   "metadata": {},
   "outputs": [],
   "source": []
  }
 ],
 "metadata": {
  "kernelspec": {
   "display_name": "Python 3 (ipykernel)",
   "language": "python",
   "name": "python3"
  },
  "language_info": {
   "codemirror_mode": {
    "name": "ipython",
    "version": 3
   },
   "file_extension": ".py",
   "mimetype": "text/x-python",
   "name": "python",
   "nbconvert_exporter": "python",
   "pygments_lexer": "ipython3",
   "version": "3.9.12"
  }
 },
 "nbformat": 4,
 "nbformat_minor": 5
}
